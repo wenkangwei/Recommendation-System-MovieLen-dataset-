{
  "nbformat": 4,
  "nbformat_minor": 0,
  "metadata": {
    "application/vnd.databricks.v1+notebook": {
      "notebookName": "HW2_Moive_data_MLbased",
      "dashboards": [],
      "language": "python",
      "widgets": {},
      "notebookOrigID": 3135927139352085
    },
    "colab": {
      "name": "WenkangWei-HW2_Moive_data_MLbased.ipynb",
      "provenance": [],
      "collapsed_sections": []
    },
    "kernelspec": {
      "name": "python3",
      "display_name": "Python 3"
    },
    "widgets": {
      "application/vnd.jupyter.widget-state+json": {
        "1ac95eb48cd546898a6ee045ce949620": {
          "model_module": "@jupyter-widgets/controls",
          "model_name": "VBoxModel",
          "state": {
            "_view_name": "VBoxView",
            "_dom_classes": [
              "widget-interact"
            ],
            "_model_name": "VBoxModel",
            "_view_module": "@jupyter-widgets/controls",
            "_model_module_version": "1.5.0",
            "_view_count": null,
            "_view_module_version": "1.5.0",
            "box_style": "",
            "layout": "IPY_MODEL_1f4cb2d7eca14d4a8b436d7edf4afc02",
            "_model_module": "@jupyter-widgets/controls",
            "children": [
              "IPY_MODEL_f2dd80b308f44cb3b6badb2a1b66a178",
              "IPY_MODEL_0c325c8976d54f8eafe696af286130c9",
              "IPY_MODEL_eec6aff2cbea4ca7b7da64641e63f8c8",
              "IPY_MODEL_3d32ff96fdd84c98aad261bfd8ab8a3f"
            ]
          }
        },
        "1f4cb2d7eca14d4a8b436d7edf4afc02": {
          "model_module": "@jupyter-widgets/base",
          "model_name": "LayoutModel",
          "state": {
            "_view_name": "LayoutView",
            "grid_template_rows": null,
            "right": null,
            "justify_content": null,
            "_view_module": "@jupyter-widgets/base",
            "overflow": null,
            "_model_module_version": "1.2.0",
            "_view_count": null,
            "flex_flow": null,
            "width": null,
            "min_width": null,
            "border": null,
            "align_items": null,
            "bottom": null,
            "_model_module": "@jupyter-widgets/base",
            "top": null,
            "grid_column": null,
            "overflow_y": null,
            "overflow_x": null,
            "grid_auto_flow": null,
            "grid_area": null,
            "grid_template_columns": null,
            "flex": null,
            "_model_name": "LayoutModel",
            "justify_items": null,
            "grid_row": null,
            "max_height": null,
            "align_content": null,
            "visibility": null,
            "align_self": null,
            "height": null,
            "min_height": null,
            "padding": null,
            "grid_auto_rows": null,
            "grid_gap": null,
            "max_width": null,
            "order": null,
            "_view_module_version": "1.2.0",
            "grid_template_areas": null,
            "object_position": null,
            "object_fit": null,
            "grid_auto_columns": null,
            "margin": null,
            "display": null,
            "left": null
          }
        },
        "f2dd80b308f44cb3b6badb2a1b66a178": {
          "model_module": "@jupyter-widgets/controls",
          "model_name": "DropdownModel",
          "state": {
            "_options_labels": [
              "userId",
              "movieId"
            ],
            "_view_name": "DropdownView",
            "style": "IPY_MODEL_ea6eb6117e27419aa07ed9567843000f",
            "_dom_classes": [],
            "description": "id_type",
            "_model_name": "DropdownModel",
            "index": 0,
            "_view_module": "@jupyter-widgets/controls",
            "_model_module_version": "1.5.0",
            "_view_count": null,
            "disabled": false,
            "_view_module_version": "1.5.0",
            "description_tooltip": null,
            "_model_module": "@jupyter-widgets/controls",
            "layout": "IPY_MODEL_0f3e52993f1e4a17b170f7ceb571ae4f"
          }
        },
        "0c325c8976d54f8eafe696af286130c9": {
          "model_module": "@jupyter-widgets/controls",
          "model_name": "TextModel",
          "state": {
            "_view_name": "TextView",
            "style": "IPY_MODEL_8426f0590cdd41baa9fddba92060ffe9",
            "_dom_classes": [],
            "description": "id",
            "_model_name": "TextModel",
            "placeholder": "​",
            "_view_module": "@jupyter-widgets/controls",
            "_model_module_version": "1.5.0",
            "value": "575",
            "_view_count": null,
            "disabled": false,
            "_view_module_version": "1.5.0",
            "continuous_update": true,
            "description_tooltip": null,
            "_model_module": "@jupyter-widgets/controls",
            "layout": "IPY_MODEL_519760551ca946f895cd279c31651739"
          }
        },
        "eec6aff2cbea4ca7b7da64641e63f8c8": {
          "model_module": "@jupyter-widgets/controls",
          "model_name": "DropdownModel",
          "state": {
            "_options_labels": [
              "1",
              "5",
              "10",
              "15"
            ],
            "_view_name": "DropdownView",
            "style": "IPY_MODEL_2bf59608de82476ab3d8dd17f4106865",
            "_dom_classes": [],
            "description": "numItems",
            "_model_name": "DropdownModel",
            "index": 1,
            "_view_module": "@jupyter-widgets/controls",
            "_model_module_version": "1.5.0",
            "_view_count": null,
            "disabled": false,
            "_view_module_version": "1.5.0",
            "description_tooltip": null,
            "_model_module": "@jupyter-widgets/controls",
            "layout": "IPY_MODEL_cd2e458ec7844fec93e024c52ad51ea1"
          }
        },
        "3d32ff96fdd84c98aad261bfd8ab8a3f": {
          "model_module": "@jupyter-widgets/output",
          "model_name": "OutputModel",
          "state": {
            "_view_name": "OutputView",
            "msg_id": "",
            "_dom_classes": [],
            "_model_name": "OutputModel",
            "outputs": [
              {
                "output_type": "stream",
                "metadata": {
                  "tags": []
                },
                "text": "Movies recommended to User:575\n",
                "stream": "stdout"
              },
              {
                "output_type": "display_data",
                "metadata": {
                  "tags": []
                },
                "text/html": "<div>\n<style scoped>\n    .dataframe tbody tr th:only-of-type {\n        vertical-align: middle;\n    }\n\n    .dataframe tbody tr th {\n        vertical-align: top;\n    }\n\n    .dataframe thead th {\n        text-align: right;\n    }\n</style>\n<table border=\"1\" class=\"dataframe\">\n  <thead>\n    <tr style=\"text-align: right;\">\n      <th></th>\n      <th>movieId</th>\n      <th>Prediction</th>\n      <th>title</th>\n      <th>genres</th>\n    </tr>\n  </thead>\n  <tbody>\n    <tr>\n      <th>0</th>\n      <td>68945</td>\n      <td>5.431108</td>\n      <td>Neon Genesis Evangelion: Death &amp; Rebirth (Shin...</td>\n      <td>Action|Animation|Mystery|Sci-Fi</td>\n    </tr>\n    <tr>\n      <th>1</th>\n      <td>3379</td>\n      <td>5.431108</td>\n      <td>On the Beach (1959)</td>\n      <td>Drama</td>\n    </tr>\n    <tr>\n      <th>2</th>\n      <td>8477</td>\n      <td>5.417279</td>\n      <td>Jetée, La (1962)</td>\n      <td>Romance|Sci-Fi</td>\n    </tr>\n    <tr>\n      <th>3</th>\n      <td>4256</td>\n      <td>5.294410</td>\n      <td>Center of the World, The (2001)</td>\n      <td>Drama</td>\n    </tr>\n    <tr>\n      <th>4</th>\n      <td>33649</td>\n      <td>5.286087</td>\n      <td>Saving Face (2004)</td>\n      <td>Comedy|Drama|Romance</td>\n    </tr>\n  </tbody>\n</table>\n</div>",
                "text/plain": "   movieId  ...                           genres\n0    68945  ...  Action|Animation|Mystery|Sci-Fi\n1     3379  ...                            Drama\n2     8477  ...                   Romance|Sci-Fi\n3     4256  ...                            Drama\n4    33649  ...             Comedy|Drama|Romance\n\n[5 rows x 4 columns]"
              }
            ],
            "_view_module": "@jupyter-widgets/output",
            "_model_module_version": "1.0.0",
            "_view_count": null,
            "_view_module_version": "1.0.0",
            "layout": "IPY_MODEL_a59b89fa8de44092a593d26a5e2f13df",
            "_model_module": "@jupyter-widgets/output"
          }
        },
        "ea6eb6117e27419aa07ed9567843000f": {
          "model_module": "@jupyter-widgets/controls",
          "model_name": "DescriptionStyleModel",
          "state": {
            "_view_name": "StyleView",
            "_model_name": "DescriptionStyleModel",
            "description_width": "",
            "_view_module": "@jupyter-widgets/base",
            "_model_module_version": "1.5.0",
            "_view_count": null,
            "_view_module_version": "1.2.0",
            "_model_module": "@jupyter-widgets/controls"
          }
        },
        "0f3e52993f1e4a17b170f7ceb571ae4f": {
          "model_module": "@jupyter-widgets/base",
          "model_name": "LayoutModel",
          "state": {
            "_view_name": "LayoutView",
            "grid_template_rows": null,
            "right": null,
            "justify_content": null,
            "_view_module": "@jupyter-widgets/base",
            "overflow": null,
            "_model_module_version": "1.2.0",
            "_view_count": null,
            "flex_flow": null,
            "width": null,
            "min_width": null,
            "border": null,
            "align_items": null,
            "bottom": null,
            "_model_module": "@jupyter-widgets/base",
            "top": null,
            "grid_column": null,
            "overflow_y": null,
            "overflow_x": null,
            "grid_auto_flow": null,
            "grid_area": null,
            "grid_template_columns": null,
            "flex": null,
            "_model_name": "LayoutModel",
            "justify_items": null,
            "grid_row": null,
            "max_height": null,
            "align_content": null,
            "visibility": null,
            "align_self": null,
            "height": null,
            "min_height": null,
            "padding": null,
            "grid_auto_rows": null,
            "grid_gap": null,
            "max_width": null,
            "order": null,
            "_view_module_version": "1.2.0",
            "grid_template_areas": null,
            "object_position": null,
            "object_fit": null,
            "grid_auto_columns": null,
            "margin": null,
            "display": null,
            "left": null
          }
        },
        "8426f0590cdd41baa9fddba92060ffe9": {
          "model_module": "@jupyter-widgets/controls",
          "model_name": "DescriptionStyleModel",
          "state": {
            "_view_name": "StyleView",
            "_model_name": "DescriptionStyleModel",
            "description_width": "",
            "_view_module": "@jupyter-widgets/base",
            "_model_module_version": "1.5.0",
            "_view_count": null,
            "_view_module_version": "1.2.0",
            "_model_module": "@jupyter-widgets/controls"
          }
        },
        "519760551ca946f895cd279c31651739": {
          "model_module": "@jupyter-widgets/base",
          "model_name": "LayoutModel",
          "state": {
            "_view_name": "LayoutView",
            "grid_template_rows": null,
            "right": null,
            "justify_content": null,
            "_view_module": "@jupyter-widgets/base",
            "overflow": null,
            "_model_module_version": "1.2.0",
            "_view_count": null,
            "flex_flow": null,
            "width": null,
            "min_width": null,
            "border": null,
            "align_items": null,
            "bottom": null,
            "_model_module": "@jupyter-widgets/base",
            "top": null,
            "grid_column": null,
            "overflow_y": null,
            "overflow_x": null,
            "grid_auto_flow": null,
            "grid_area": null,
            "grid_template_columns": null,
            "flex": null,
            "_model_name": "LayoutModel",
            "justify_items": null,
            "grid_row": null,
            "max_height": null,
            "align_content": null,
            "visibility": null,
            "align_self": null,
            "height": null,
            "min_height": null,
            "padding": null,
            "grid_auto_rows": null,
            "grid_gap": null,
            "max_width": null,
            "order": null,
            "_view_module_version": "1.2.0",
            "grid_template_areas": null,
            "object_position": null,
            "object_fit": null,
            "grid_auto_columns": null,
            "margin": null,
            "display": null,
            "left": null
          }
        },
        "2bf59608de82476ab3d8dd17f4106865": {
          "model_module": "@jupyter-widgets/controls",
          "model_name": "DescriptionStyleModel",
          "state": {
            "_view_name": "StyleView",
            "_model_name": "DescriptionStyleModel",
            "description_width": "",
            "_view_module": "@jupyter-widgets/base",
            "_model_module_version": "1.5.0",
            "_view_count": null,
            "_view_module_version": "1.2.0",
            "_model_module": "@jupyter-widgets/controls"
          }
        },
        "cd2e458ec7844fec93e024c52ad51ea1": {
          "model_module": "@jupyter-widgets/base",
          "model_name": "LayoutModel",
          "state": {
            "_view_name": "LayoutView",
            "grid_template_rows": null,
            "right": null,
            "justify_content": null,
            "_view_module": "@jupyter-widgets/base",
            "overflow": null,
            "_model_module_version": "1.2.0",
            "_view_count": null,
            "flex_flow": null,
            "width": null,
            "min_width": null,
            "border": null,
            "align_items": null,
            "bottom": null,
            "_model_module": "@jupyter-widgets/base",
            "top": null,
            "grid_column": null,
            "overflow_y": null,
            "overflow_x": null,
            "grid_auto_flow": null,
            "grid_area": null,
            "grid_template_columns": null,
            "flex": null,
            "_model_name": "LayoutModel",
            "justify_items": null,
            "grid_row": null,
            "max_height": null,
            "align_content": null,
            "visibility": null,
            "align_self": null,
            "height": null,
            "min_height": null,
            "padding": null,
            "grid_auto_rows": null,
            "grid_gap": null,
            "max_width": null,
            "order": null,
            "_view_module_version": "1.2.0",
            "grid_template_areas": null,
            "object_position": null,
            "object_fit": null,
            "grid_auto_columns": null,
            "margin": null,
            "display": null,
            "left": null
          }
        },
        "a59b89fa8de44092a593d26a5e2f13df": {
          "model_module": "@jupyter-widgets/base",
          "model_name": "LayoutModel",
          "state": {
            "_view_name": "LayoutView",
            "grid_template_rows": null,
            "right": null,
            "justify_content": null,
            "_view_module": "@jupyter-widgets/base",
            "overflow": null,
            "_model_module_version": "1.2.0",
            "_view_count": null,
            "flex_flow": null,
            "width": null,
            "min_width": null,
            "border": null,
            "align_items": null,
            "bottom": null,
            "_model_module": "@jupyter-widgets/base",
            "top": null,
            "grid_column": null,
            "overflow_y": null,
            "overflow_x": null,
            "grid_auto_flow": null,
            "grid_area": null,
            "grid_template_columns": null,
            "flex": null,
            "_model_name": "LayoutModel",
            "justify_items": null,
            "grid_row": null,
            "max_height": null,
            "align_content": null,
            "visibility": null,
            "align_self": null,
            "height": null,
            "min_height": null,
            "padding": null,
            "grid_auto_rows": null,
            "grid_gap": null,
            "max_width": null,
            "order": null,
            "_view_module_version": "1.2.0",
            "grid_template_areas": null,
            "object_position": null,
            "object_fit": null,
            "grid_auto_columns": null,
            "margin": null,
            "display": null,
            "left": null
          }
        },
        "db812c58d08b412bba426884e20a5518": {
          "model_module": "@jupyter-widgets/controls",
          "model_name": "VBoxModel",
          "state": {
            "_view_name": "VBoxView",
            "_dom_classes": [
              "widget-interact"
            ],
            "_model_name": "VBoxModel",
            "_view_module": "@jupyter-widgets/controls",
            "_model_module_version": "1.5.0",
            "_view_count": null,
            "_view_module_version": "1.5.0",
            "box_style": "",
            "layout": "IPY_MODEL_d6b339c01b344b829144067318179ad9",
            "_model_module": "@jupyter-widgets/controls",
            "children": [
              "IPY_MODEL_fa0e2928a58a458ebda669b012cecf6d",
              "IPY_MODEL_1f2514c922f54f63badb600a3bd7e5db",
              "IPY_MODEL_60af85be4a874e7a9a413358d9a06abb",
              "IPY_MODEL_75bbf920e8f445e19ea58a4519ec3302"
            ]
          }
        },
        "d6b339c01b344b829144067318179ad9": {
          "model_module": "@jupyter-widgets/base",
          "model_name": "LayoutModel",
          "state": {
            "_view_name": "LayoutView",
            "grid_template_rows": null,
            "right": null,
            "justify_content": null,
            "_view_module": "@jupyter-widgets/base",
            "overflow": null,
            "_model_module_version": "1.2.0",
            "_view_count": null,
            "flex_flow": null,
            "width": null,
            "min_width": null,
            "border": null,
            "align_items": null,
            "bottom": null,
            "_model_module": "@jupyter-widgets/base",
            "top": null,
            "grid_column": null,
            "overflow_y": null,
            "overflow_x": null,
            "grid_auto_flow": null,
            "grid_area": null,
            "grid_template_columns": null,
            "flex": null,
            "_model_name": "LayoutModel",
            "justify_items": null,
            "grid_row": null,
            "max_height": null,
            "align_content": null,
            "visibility": null,
            "align_self": null,
            "height": null,
            "min_height": null,
            "padding": null,
            "grid_auto_rows": null,
            "grid_gap": null,
            "max_width": null,
            "order": null,
            "_view_module_version": "1.2.0",
            "grid_template_areas": null,
            "object_position": null,
            "object_fit": null,
            "grid_auto_columns": null,
            "margin": null,
            "display": null,
            "left": null
          }
        },
        "fa0e2928a58a458ebda669b012cecf6d": {
          "model_module": "@jupyter-widgets/controls",
          "model_name": "DropdownModel",
          "state": {
            "_options_labels": [
              "userId",
              "movieId"
            ],
            "_view_name": "DropdownView",
            "style": "IPY_MODEL_45e8fb5b3ae041759901954bd34f1fb1",
            "_dom_classes": [],
            "description": "id_type",
            "_model_name": "DropdownModel",
            "index": 0,
            "_view_module": "@jupyter-widgets/controls",
            "_model_module_version": "1.5.0",
            "_view_count": null,
            "disabled": false,
            "_view_module_version": "1.5.0",
            "description_tooltip": null,
            "_model_module": "@jupyter-widgets/controls",
            "layout": "IPY_MODEL_b6ccdd4178c44a799ae41b3d54d7be63"
          }
        },
        "1f2514c922f54f63badb600a3bd7e5db": {
          "model_module": "@jupyter-widgets/controls",
          "model_name": "TextModel",
          "state": {
            "_view_name": "TextView",
            "style": "IPY_MODEL_b20de326a91247028adf5ac2f6eb14f4",
            "_dom_classes": [],
            "description": "id",
            "_model_name": "TextModel",
            "placeholder": "​",
            "_view_module": "@jupyter-widgets/controls",
            "_model_module_version": "1.5.0",
            "value": "471",
            "_view_count": null,
            "disabled": false,
            "_view_module_version": "1.5.0",
            "continuous_update": true,
            "description_tooltip": null,
            "_model_module": "@jupyter-widgets/controls",
            "layout": "IPY_MODEL_54132c48f7f745829c7f87f3c703279d"
          }
        },
        "60af85be4a874e7a9a413358d9a06abb": {
          "model_module": "@jupyter-widgets/controls",
          "model_name": "DropdownModel",
          "state": {
            "_options_labels": [
              "1",
              "5",
              "10",
              "15"
            ],
            "_view_name": "DropdownView",
            "style": "IPY_MODEL_028647dd2d8c4887b3e9b5d337de5836",
            "_dom_classes": [],
            "description": "numItems",
            "_model_name": "DropdownModel",
            "index": 1,
            "_view_module": "@jupyter-widgets/controls",
            "_model_module_version": "1.5.0",
            "_view_count": null,
            "disabled": false,
            "_view_module_version": "1.5.0",
            "description_tooltip": null,
            "_model_module": "@jupyter-widgets/controls",
            "layout": "IPY_MODEL_b102ecc493ac4275bcdb76b6181d6709"
          }
        },
        "75bbf920e8f445e19ea58a4519ec3302": {
          "model_module": "@jupyter-widgets/output",
          "model_name": "OutputModel",
          "state": {
            "_view_name": "OutputView",
            "msg_id": "",
            "_dom_classes": [],
            "_model_name": "OutputModel",
            "outputs": [
              {
                "output_type": "stream",
                "metadata": {
                  "tags": []
                },
                "text": "Movies recommended to User:471\n",
                "stream": "stdout"
              },
              {
                "output_type": "display_data",
                "metadata": {
                  "tags": []
                },
                "text/html": "<div>\n<style scoped>\n    .dataframe tbody tr th:only-of-type {\n        vertical-align: middle;\n    }\n\n    .dataframe tbody tr th {\n        vertical-align: top;\n    }\n\n    .dataframe thead th {\n        text-align: right;\n    }\n</style>\n<table border=\"1\" class=\"dataframe\">\n  <thead>\n    <tr style=\"text-align: right;\">\n      <th></th>\n      <th>movieId</th>\n      <th>Prediction</th>\n      <th>title</th>\n      <th>genres</th>\n    </tr>\n  </thead>\n  <tbody>\n    <tr>\n      <th>0</th>\n      <td>68945</td>\n      <td>5.247173</td>\n      <td>Neon Genesis Evangelion: Death &amp; Rebirth (Shin...</td>\n      <td>Action|Animation|Mystery|Sci-Fi</td>\n    </tr>\n    <tr>\n      <th>1</th>\n      <td>3379</td>\n      <td>5.247173</td>\n      <td>On the Beach (1959)</td>\n      <td>Drama</td>\n    </tr>\n    <tr>\n      <th>2</th>\n      <td>96004</td>\n      <td>5.111511</td>\n      <td>Dragon Ball Z: The History of Trunks (Doragon ...</td>\n      <td>Action|Adventure|Animation</td>\n    </tr>\n    <tr>\n      <th>3</th>\n      <td>89759</td>\n      <td>4.979486</td>\n      <td>Separation, A (Jodaeiye Nader az Simin) (2011)</td>\n      <td>Drama</td>\n    </tr>\n    <tr>\n      <th>4</th>\n      <td>7815</td>\n      <td>4.872431</td>\n      <td>True Stories (1986)</td>\n      <td>Comedy|Musical</td>\n    </tr>\n  </tbody>\n</table>\n</div>",
                "text/plain": "   movieId  ...                           genres\n0    68945  ...  Action|Animation|Mystery|Sci-Fi\n1     3379  ...                            Drama\n2    96004  ...       Action|Adventure|Animation\n3    89759  ...                            Drama\n4     7815  ...                   Comedy|Musical\n\n[5 rows x 4 columns]"
              }
            ],
            "_view_module": "@jupyter-widgets/output",
            "_model_module_version": "1.0.0",
            "_view_count": null,
            "_view_module_version": "1.0.0",
            "layout": "IPY_MODEL_c2176318fbfb4d1fb4cf704d72ddb1a3",
            "_model_module": "@jupyter-widgets/output"
          }
        },
        "45e8fb5b3ae041759901954bd34f1fb1": {
          "model_module": "@jupyter-widgets/controls",
          "model_name": "DescriptionStyleModel",
          "state": {
            "_view_name": "StyleView",
            "_model_name": "DescriptionStyleModel",
            "description_width": "",
            "_view_module": "@jupyter-widgets/base",
            "_model_module_version": "1.5.0",
            "_view_count": null,
            "_view_module_version": "1.2.0",
            "_model_module": "@jupyter-widgets/controls"
          }
        },
        "b6ccdd4178c44a799ae41b3d54d7be63": {
          "model_module": "@jupyter-widgets/base",
          "model_name": "LayoutModel",
          "state": {
            "_view_name": "LayoutView",
            "grid_template_rows": null,
            "right": null,
            "justify_content": null,
            "_view_module": "@jupyter-widgets/base",
            "overflow": null,
            "_model_module_version": "1.2.0",
            "_view_count": null,
            "flex_flow": null,
            "width": null,
            "min_width": null,
            "border": null,
            "align_items": null,
            "bottom": null,
            "_model_module": "@jupyter-widgets/base",
            "top": null,
            "grid_column": null,
            "overflow_y": null,
            "overflow_x": null,
            "grid_auto_flow": null,
            "grid_area": null,
            "grid_template_columns": null,
            "flex": null,
            "_model_name": "LayoutModel",
            "justify_items": null,
            "grid_row": null,
            "max_height": null,
            "align_content": null,
            "visibility": null,
            "align_self": null,
            "height": null,
            "min_height": null,
            "padding": null,
            "grid_auto_rows": null,
            "grid_gap": null,
            "max_width": null,
            "order": null,
            "_view_module_version": "1.2.0",
            "grid_template_areas": null,
            "object_position": null,
            "object_fit": null,
            "grid_auto_columns": null,
            "margin": null,
            "display": null,
            "left": null
          }
        },
        "b20de326a91247028adf5ac2f6eb14f4": {
          "model_module": "@jupyter-widgets/controls",
          "model_name": "DescriptionStyleModel",
          "state": {
            "_view_name": "StyleView",
            "_model_name": "DescriptionStyleModel",
            "description_width": "",
            "_view_module": "@jupyter-widgets/base",
            "_model_module_version": "1.5.0",
            "_view_count": null,
            "_view_module_version": "1.2.0",
            "_model_module": "@jupyter-widgets/controls"
          }
        },
        "54132c48f7f745829c7f87f3c703279d": {
          "model_module": "@jupyter-widgets/base",
          "model_name": "LayoutModel",
          "state": {
            "_view_name": "LayoutView",
            "grid_template_rows": null,
            "right": null,
            "justify_content": null,
            "_view_module": "@jupyter-widgets/base",
            "overflow": null,
            "_model_module_version": "1.2.0",
            "_view_count": null,
            "flex_flow": null,
            "width": null,
            "min_width": null,
            "border": null,
            "align_items": null,
            "bottom": null,
            "_model_module": "@jupyter-widgets/base",
            "top": null,
            "grid_column": null,
            "overflow_y": null,
            "overflow_x": null,
            "grid_auto_flow": null,
            "grid_area": null,
            "grid_template_columns": null,
            "flex": null,
            "_model_name": "LayoutModel",
            "justify_items": null,
            "grid_row": null,
            "max_height": null,
            "align_content": null,
            "visibility": null,
            "align_self": null,
            "height": null,
            "min_height": null,
            "padding": null,
            "grid_auto_rows": null,
            "grid_gap": null,
            "max_width": null,
            "order": null,
            "_view_module_version": "1.2.0",
            "grid_template_areas": null,
            "object_position": null,
            "object_fit": null,
            "grid_auto_columns": null,
            "margin": null,
            "display": null,
            "left": null
          }
        },
        "028647dd2d8c4887b3e9b5d337de5836": {
          "model_module": "@jupyter-widgets/controls",
          "model_name": "DescriptionStyleModel",
          "state": {
            "_view_name": "StyleView",
            "_model_name": "DescriptionStyleModel",
            "description_width": "",
            "_view_module": "@jupyter-widgets/base",
            "_model_module_version": "1.5.0",
            "_view_count": null,
            "_view_module_version": "1.2.0",
            "_model_module": "@jupyter-widgets/controls"
          }
        },
        "b102ecc493ac4275bcdb76b6181d6709": {
          "model_module": "@jupyter-widgets/base",
          "model_name": "LayoutModel",
          "state": {
            "_view_name": "LayoutView",
            "grid_template_rows": null,
            "right": null,
            "justify_content": null,
            "_view_module": "@jupyter-widgets/base",
            "overflow": null,
            "_model_module_version": "1.2.0",
            "_view_count": null,
            "flex_flow": null,
            "width": null,
            "min_width": null,
            "border": null,
            "align_items": null,
            "bottom": null,
            "_model_module": "@jupyter-widgets/base",
            "top": null,
            "grid_column": null,
            "overflow_y": null,
            "overflow_x": null,
            "grid_auto_flow": null,
            "grid_area": null,
            "grid_template_columns": null,
            "flex": null,
            "_model_name": "LayoutModel",
            "justify_items": null,
            "grid_row": null,
            "max_height": null,
            "align_content": null,
            "visibility": null,
            "align_self": null,
            "height": null,
            "min_height": null,
            "padding": null,
            "grid_auto_rows": null,
            "grid_gap": null,
            "max_width": null,
            "order": null,
            "_view_module_version": "1.2.0",
            "grid_template_areas": null,
            "object_position": null,
            "object_fit": null,
            "grid_auto_columns": null,
            "margin": null,
            "display": null,
            "left": null
          }
        },
        "c2176318fbfb4d1fb4cf704d72ddb1a3": {
          "model_module": "@jupyter-widgets/base",
          "model_name": "LayoutModel",
          "state": {
            "_view_name": "LayoutView",
            "grid_template_rows": null,
            "right": null,
            "justify_content": null,
            "_view_module": "@jupyter-widgets/base",
            "overflow": null,
            "_model_module_version": "1.2.0",
            "_view_count": null,
            "flex_flow": null,
            "width": null,
            "min_width": null,
            "border": null,
            "align_items": null,
            "bottom": null,
            "_model_module": "@jupyter-widgets/base",
            "top": null,
            "grid_column": null,
            "overflow_y": null,
            "overflow_x": null,
            "grid_auto_flow": null,
            "grid_area": null,
            "grid_template_columns": null,
            "flex": null,
            "_model_name": "LayoutModel",
            "justify_items": null,
            "grid_row": null,
            "max_height": null,
            "align_content": null,
            "visibility": null,
            "align_self": null,
            "height": null,
            "min_height": null,
            "padding": null,
            "grid_auto_rows": null,
            "grid_gap": null,
            "max_width": null,
            "order": null,
            "_view_module_version": "1.2.0",
            "grid_template_areas": null,
            "object_position": null,
            "object_fit": null,
            "grid_auto_columns": null,
            "margin": null,
            "display": null,
            "left": null
          }
        },
        "de7d2b2cd69e4809a83d05a9fce3f8ce": {
          "model_module": "@jupyter-widgets/controls",
          "model_name": "VBoxModel",
          "state": {
            "_view_name": "VBoxView",
            "_dom_classes": [
              "widget-interact"
            ],
            "_model_name": "VBoxModel",
            "_view_module": "@jupyter-widgets/controls",
            "_model_module_version": "1.5.0",
            "_view_count": null,
            "_view_module_version": "1.5.0",
            "box_style": "",
            "layout": "IPY_MODEL_4dc37848b678483ebe13add03e950ce9",
            "_model_module": "@jupyter-widgets/controls",
            "children": [
              "IPY_MODEL_4a8d4e765e9f4674935a184d83bb1ff8",
              "IPY_MODEL_33f4dfe9c19348a79b73a86ca40e5ca1",
              "IPY_MODEL_465b710d861a4399a9778650b9963b45",
              "IPY_MODEL_3ceb2f5d5470466792a84467a58d6f06"
            ]
          }
        },
        "4dc37848b678483ebe13add03e950ce9": {
          "model_module": "@jupyter-widgets/base",
          "model_name": "LayoutModel",
          "state": {
            "_view_name": "LayoutView",
            "grid_template_rows": null,
            "right": null,
            "justify_content": null,
            "_view_module": "@jupyter-widgets/base",
            "overflow": null,
            "_model_module_version": "1.2.0",
            "_view_count": null,
            "flex_flow": null,
            "width": null,
            "min_width": null,
            "border": null,
            "align_items": null,
            "bottom": null,
            "_model_module": "@jupyter-widgets/base",
            "top": null,
            "grid_column": null,
            "overflow_y": null,
            "overflow_x": null,
            "grid_auto_flow": null,
            "grid_area": null,
            "grid_template_columns": null,
            "flex": null,
            "_model_name": "LayoutModel",
            "justify_items": null,
            "grid_row": null,
            "max_height": null,
            "align_content": null,
            "visibility": null,
            "align_self": null,
            "height": null,
            "min_height": null,
            "padding": null,
            "grid_auto_rows": null,
            "grid_gap": null,
            "max_width": null,
            "order": null,
            "_view_module_version": "1.2.0",
            "grid_template_areas": null,
            "object_position": null,
            "object_fit": null,
            "grid_auto_columns": null,
            "margin": null,
            "display": null,
            "left": null
          }
        },
        "4a8d4e765e9f4674935a184d83bb1ff8": {
          "model_module": "@jupyter-widgets/controls",
          "model_name": "DropdownModel",
          "state": {
            "_options_labels": [
              "userId",
              "movieId"
            ],
            "_view_name": "DropdownView",
            "style": "IPY_MODEL_1214e6b07dff4418860625622d66560a",
            "_dom_classes": [],
            "description": "id_type",
            "_model_name": "DropdownModel",
            "index": 1,
            "_view_module": "@jupyter-widgets/controls",
            "_model_module_version": "1.5.0",
            "_view_count": null,
            "disabled": false,
            "_view_module_version": "1.5.0",
            "description_tooltip": null,
            "_model_module": "@jupyter-widgets/controls",
            "layout": "IPY_MODEL_0cb349271b1b4266820bb67ecda5560c"
          }
        },
        "33f4dfe9c19348a79b73a86ca40e5ca1": {
          "model_module": "@jupyter-widgets/controls",
          "model_name": "TextModel",
          "state": {
            "_view_name": "TextView",
            "style": "IPY_MODEL_ceef0071a34242adb0a25d3f92e3a4ee",
            "_dom_classes": [],
            "description": "id",
            "_model_name": "TextModel",
            "placeholder": "​",
            "_view_module": "@jupyter-widgets/controls",
            "_model_module_version": "1.5.0",
            "value": "471",
            "_view_count": null,
            "disabled": false,
            "_view_module_version": "1.5.0",
            "continuous_update": true,
            "description_tooltip": null,
            "_model_module": "@jupyter-widgets/controls",
            "layout": "IPY_MODEL_b72e710db8f74eaa877ebc00a64356c3"
          }
        },
        "465b710d861a4399a9778650b9963b45": {
          "model_module": "@jupyter-widgets/controls",
          "model_name": "DropdownModel",
          "state": {
            "_options_labels": [
              "1",
              "5",
              "10",
              "15"
            ],
            "_view_name": "DropdownView",
            "style": "IPY_MODEL_33e8eb271d4348bdb9ac041f6a3c7d07",
            "_dom_classes": [],
            "description": "numItems",
            "_model_name": "DropdownModel",
            "index": 1,
            "_view_module": "@jupyter-widgets/controls",
            "_model_module_version": "1.5.0",
            "_view_count": null,
            "disabled": false,
            "_view_module_version": "1.5.0",
            "description_tooltip": null,
            "_model_module": "@jupyter-widgets/controls",
            "layout": "IPY_MODEL_56f74937b6cd4af5a1b29c236f835f1b"
          }
        },
        "3ceb2f5d5470466792a84467a58d6f06": {
          "model_module": "@jupyter-widgets/output",
          "model_name": "OutputModel",
          "state": {
            "_view_name": "OutputView",
            "msg_id": "",
            "_dom_classes": [],
            "_model_name": "OutputModel",
            "outputs": [
              {
                "output_type": "stream",
                "metadata": {
                  "tags": []
                },
                "text": "Movies recommended to User:471\n",
                "stream": "stdout"
              },
              {
                "output_type": "display_data",
                "metadata": {
                  "tags": []
                },
                "text/html": "<div>\n<style scoped>\n    .dataframe tbody tr th:only-of-type {\n        vertical-align: middle;\n    }\n\n    .dataframe tbody tr th {\n        vertical-align: top;\n    }\n\n    .dataframe thead th {\n        text-align: right;\n    }\n</style>\n<table border=\"1\" class=\"dataframe\">\n  <thead>\n    <tr style=\"text-align: right;\">\n      <th></th>\n      <th>movieId</th>\n      <th>Prediction</th>\n      <th>title</th>\n      <th>genres</th>\n      <th>cos_similarity</th>\n    </tr>\n  </thead>\n  <tbody>\n    <tr>\n      <th>0</th>\n      <td>461</td>\n      <td>5.806471</td>\n      <td>Go Fish (1994)</td>\n      <td>Drama|Romance</td>\n      <td>0.079057</td>\n    </tr>\n    <tr>\n      <th>1</th>\n      <td>99</td>\n      <td>5.278326</td>\n      <td>Heidi Fleiss: Hollywood Madam (1995)</td>\n      <td>Documentary</td>\n      <td>0.111803</td>\n    </tr>\n    <tr>\n      <th>2</th>\n      <td>258</td>\n      <td>5.172138</td>\n      <td>Kid in King Arthur's Court, A (1995)</td>\n      <td>Adventure|Children|Comedy|Fantasy|Romance</td>\n      <td>0.100000</td>\n    </tr>\n    <tr>\n      <th>3</th>\n      <td>224</td>\n      <td>5.091140</td>\n      <td>Don Juan DeMarco (1995)</td>\n      <td>Comedy|Drama|Romance</td>\n      <td>0.275000</td>\n    </tr>\n    <tr>\n      <th>4</th>\n      <td>108</td>\n      <td>4.804200</td>\n      <td>Catwalk (1996)</td>\n      <td>Documentary</td>\n      <td>0.158114</td>\n    </tr>\n  </tbody>\n</table>\n</div>",
                "text/plain": "   movieId  ...  cos_similarity\n0      461  ...        0.079057\n1       99  ...        0.111803\n2      258  ...        0.100000\n3      224  ...        0.275000\n4      108  ...        0.158114\n\n[5 rows x 5 columns]"
              }
            ],
            "_view_module": "@jupyter-widgets/output",
            "_model_module_version": "1.0.0",
            "_view_count": null,
            "_view_module_version": "1.0.0",
            "layout": "IPY_MODEL_278bbdc4dd434ec5beae4764f0d54daf",
            "_model_module": "@jupyter-widgets/output"
          }
        },
        "1214e6b07dff4418860625622d66560a": {
          "model_module": "@jupyter-widgets/controls",
          "model_name": "DescriptionStyleModel",
          "state": {
            "_view_name": "StyleView",
            "_model_name": "DescriptionStyleModel",
            "description_width": "",
            "_view_module": "@jupyter-widgets/base",
            "_model_module_version": "1.5.0",
            "_view_count": null,
            "_view_module_version": "1.2.0",
            "_model_module": "@jupyter-widgets/controls"
          }
        },
        "0cb349271b1b4266820bb67ecda5560c": {
          "model_module": "@jupyter-widgets/base",
          "model_name": "LayoutModel",
          "state": {
            "_view_name": "LayoutView",
            "grid_template_rows": null,
            "right": null,
            "justify_content": null,
            "_view_module": "@jupyter-widgets/base",
            "overflow": null,
            "_model_module_version": "1.2.0",
            "_view_count": null,
            "flex_flow": null,
            "width": null,
            "min_width": null,
            "border": null,
            "align_items": null,
            "bottom": null,
            "_model_module": "@jupyter-widgets/base",
            "top": null,
            "grid_column": null,
            "overflow_y": null,
            "overflow_x": null,
            "grid_auto_flow": null,
            "grid_area": null,
            "grid_template_columns": null,
            "flex": null,
            "_model_name": "LayoutModel",
            "justify_items": null,
            "grid_row": null,
            "max_height": null,
            "align_content": null,
            "visibility": null,
            "align_self": null,
            "height": null,
            "min_height": null,
            "padding": null,
            "grid_auto_rows": null,
            "grid_gap": null,
            "max_width": null,
            "order": null,
            "_view_module_version": "1.2.0",
            "grid_template_areas": null,
            "object_position": null,
            "object_fit": null,
            "grid_auto_columns": null,
            "margin": null,
            "display": null,
            "left": null
          }
        },
        "ceef0071a34242adb0a25d3f92e3a4ee": {
          "model_module": "@jupyter-widgets/controls",
          "model_name": "DescriptionStyleModel",
          "state": {
            "_view_name": "StyleView",
            "_model_name": "DescriptionStyleModel",
            "description_width": "",
            "_view_module": "@jupyter-widgets/base",
            "_model_module_version": "1.5.0",
            "_view_count": null,
            "_view_module_version": "1.2.0",
            "_model_module": "@jupyter-widgets/controls"
          }
        },
        "b72e710db8f74eaa877ebc00a64356c3": {
          "model_module": "@jupyter-widgets/base",
          "model_name": "LayoutModel",
          "state": {
            "_view_name": "LayoutView",
            "grid_template_rows": null,
            "right": null,
            "justify_content": null,
            "_view_module": "@jupyter-widgets/base",
            "overflow": null,
            "_model_module_version": "1.2.0",
            "_view_count": null,
            "flex_flow": null,
            "width": null,
            "min_width": null,
            "border": null,
            "align_items": null,
            "bottom": null,
            "_model_module": "@jupyter-widgets/base",
            "top": null,
            "grid_column": null,
            "overflow_y": null,
            "overflow_x": null,
            "grid_auto_flow": null,
            "grid_area": null,
            "grid_template_columns": null,
            "flex": null,
            "_model_name": "LayoutModel",
            "justify_items": null,
            "grid_row": null,
            "max_height": null,
            "align_content": null,
            "visibility": null,
            "align_self": null,
            "height": null,
            "min_height": null,
            "padding": null,
            "grid_auto_rows": null,
            "grid_gap": null,
            "max_width": null,
            "order": null,
            "_view_module_version": "1.2.0",
            "grid_template_areas": null,
            "object_position": null,
            "object_fit": null,
            "grid_auto_columns": null,
            "margin": null,
            "display": null,
            "left": null
          }
        },
        "33e8eb271d4348bdb9ac041f6a3c7d07": {
          "model_module": "@jupyter-widgets/controls",
          "model_name": "DescriptionStyleModel",
          "state": {
            "_view_name": "StyleView",
            "_model_name": "DescriptionStyleModel",
            "description_width": "",
            "_view_module": "@jupyter-widgets/base",
            "_model_module_version": "1.5.0",
            "_view_count": null,
            "_view_module_version": "1.2.0",
            "_model_module": "@jupyter-widgets/controls"
          }
        },
        "56f74937b6cd4af5a1b29c236f835f1b": {
          "model_module": "@jupyter-widgets/base",
          "model_name": "LayoutModel",
          "state": {
            "_view_name": "LayoutView",
            "grid_template_rows": null,
            "right": null,
            "justify_content": null,
            "_view_module": "@jupyter-widgets/base",
            "overflow": null,
            "_model_module_version": "1.2.0",
            "_view_count": null,
            "flex_flow": null,
            "width": null,
            "min_width": null,
            "border": null,
            "align_items": null,
            "bottom": null,
            "_model_module": "@jupyter-widgets/base",
            "top": null,
            "grid_column": null,
            "overflow_y": null,
            "overflow_x": null,
            "grid_auto_flow": null,
            "grid_area": null,
            "grid_template_columns": null,
            "flex": null,
            "_model_name": "LayoutModel",
            "justify_items": null,
            "grid_row": null,
            "max_height": null,
            "align_content": null,
            "visibility": null,
            "align_self": null,
            "height": null,
            "min_height": null,
            "padding": null,
            "grid_auto_rows": null,
            "grid_gap": null,
            "max_width": null,
            "order": null,
            "_view_module_version": "1.2.0",
            "grid_template_areas": null,
            "object_position": null,
            "object_fit": null,
            "grid_auto_columns": null,
            "margin": null,
            "display": null,
            "left": null
          }
        },
        "278bbdc4dd434ec5beae4764f0d54daf": {
          "model_module": "@jupyter-widgets/base",
          "model_name": "LayoutModel",
          "state": {
            "_view_name": "LayoutView",
            "grid_template_rows": null,
            "right": null,
            "justify_content": null,
            "_view_module": "@jupyter-widgets/base",
            "overflow": null,
            "_model_module_version": "1.2.0",
            "_view_count": null,
            "flex_flow": null,
            "width": null,
            "min_width": null,
            "border": null,
            "align_items": null,
            "bottom": null,
            "_model_module": "@jupyter-widgets/base",
            "top": null,
            "grid_column": null,
            "overflow_y": null,
            "overflow_x": null,
            "grid_auto_flow": null,
            "grid_area": null,
            "grid_template_columns": null,
            "flex": null,
            "_model_name": "LayoutModel",
            "justify_items": null,
            "grid_row": null,
            "max_height": null,
            "align_content": null,
            "visibility": null,
            "align_self": null,
            "height": null,
            "min_height": null,
            "padding": null,
            "grid_auto_rows": null,
            "grid_gap": null,
            "max_width": null,
            "order": null,
            "_view_module_version": "1.2.0",
            "grid_template_areas": null,
            "object_position": null,
            "object_fit": null,
            "grid_auto_columns": null,
            "margin": null,
            "display": null,
            "left": null
          }
        }
      }
    }
  },
  "cells": [
    {
      "cell_type": "markdown",
      "metadata": {
        "application/vnd.databricks.v1+cell": {
          "title": "",
          "showTitle": false,
          "inputWidgets": {},
          "nuid": "d48e9a94-c0f9-4854-bc44-1bb3ed429ea8"
        },
        "id": "5PUKGZbtQaR_"
      },
      "source": [
        "### Spark HW2 Moive Recommendation\n",
        "In this notebook, we will use an Alternating Least Squares (ALS) algorithm with Spark APIs to predict the ratings for the movies in [MovieLens small dataset](https://grouplens.org/datasets/movielens/latest/)"
      ]
    },
    {
      "cell_type": "code",
      "metadata": {
        "application/vnd.databricks.v1+cell": {
          "title": "",
          "showTitle": false,
          "inputWidgets": {},
          "nuid": "7e15fc79-1a2e-41b1-b43a-b22e1ae3979f"
        },
        "id": "NdhvJbCvQaSC"
      },
      "source": [
        "import numpy as np\n",
        "import pandas as pd\n",
        "import seaborn as sns\n",
        "import matplotlib.pyplot as plt\n",
        "import math\n",
        "%matplotlib inline"
      ],
      "execution_count": null,
      "outputs": []
    },
    {
      "cell_type": "code",
      "metadata": {
        "id": "4ypTxkPNRQ2b",
        "colab": {
          "base_uri": "https://localhost:8080/"
        },
        "outputId": "9d7e46d1-1cef-4c09-c25e-17a703d90c4b"
      },
      "source": [
        "! wget http://files.grouplens.org/datasets/movielens/ml-latest-small.zip\n",
        "! unzip ml-latest-small.zip\n",
        "!ls"
      ],
      "execution_count": null,
      "outputs": [
        {
          "output_type": "stream",
          "text": [
            "--2020-10-30 20:34:31--  http://files.grouplens.org/datasets/movielens/ml-latest-small.zip\n",
            "Resolving files.grouplens.org (files.grouplens.org)... 128.101.65.152\n",
            "Connecting to files.grouplens.org (files.grouplens.org)|128.101.65.152|:80... connected.\n",
            "HTTP request sent, awaiting response... 200 OK\n",
            "Length: 978202 (955K) [application/zip]\n",
            "Saving to: ‘ml-latest-small.zip’\n",
            "\n",
            "ml-latest-small.zip 100%[===================>] 955.28K  3.74MB/s    in 0.2s    \n",
            "\n",
            "2020-10-30 20:34:32 (3.74 MB/s) - ‘ml-latest-small.zip’ saved [978202/978202]\n",
            "\n",
            "Archive:  ml-latest-small.zip\n",
            "   creating: ml-latest-small/\n",
            "  inflating: ml-latest-small/links.csv  \n",
            "  inflating: ml-latest-small/tags.csv  \n",
            "  inflating: ml-latest-small/ratings.csv  \n",
            "  inflating: ml-latest-small/README.txt  \n",
            "  inflating: ml-latest-small/movies.csv  \n",
            "ml-latest-small  ml-latest-small.zip  sample_data\n"
          ],
          "name": "stdout"
        }
      ]
    },
    {
      "cell_type": "code",
      "metadata": {
        "id": "DrFlgHKzRQiv",
        "colab": {
          "base_uri": "https://localhost:8080/"
        },
        "outputId": "275c21cd-ca5f-40e4-bab8-f6725a135bb6"
      },
      "source": [
        "!ls ml-latest-small/"
      ],
      "execution_count": null,
      "outputs": [
        {
          "output_type": "stream",
          "text": [
            "links.csv  movies.csv  ratings.csv  README.txt\ttags.csv\n"
          ],
          "name": "stdout"
        }
      ]
    },
    {
      "cell_type": "code",
      "metadata": {
        "id": "HkdGbPuLR7fz"
      },
      "source": [
        "!apt-get install openjdk-8-jdk-headless -qq > /dev/null\n",
        "!wget -q http://apache.osuosl.org/spark/spark-3.0.1/spark-3.0.1-bin-hadoop3.2.tgz\n",
        "!tar xf spark-3.0.1-bin-hadoop3.2.tgz\n",
        "!pip install -q findspark"
      ],
      "execution_count": null,
      "outputs": []
    },
    {
      "cell_type": "code",
      "metadata": {
        "id": "SlOmhNzsR7dA"
      },
      "source": [
        "import os\n",
        "os.environ[\"JAVA_HOME\"] = \"/usr/lib/jvm/java-8-openjdk-amd64\"\n",
        "os.environ[\"SPARK_HOME\"] = \"/content/spark-3.0.1-bin-hadoop3.2\""
      ],
      "execution_count": null,
      "outputs": []
    },
    {
      "cell_type": "code",
      "metadata": {
        "id": "P3UDrLY1R7aK",
        "colab": {
          "base_uri": "https://localhost:8080/"
        },
        "outputId": "383dbf45-dcaf-41d2-b676-6aeffaa4a14e"
      },
      "source": [
        "import findspark\n",
        "findspark.init()\n",
        "from pyspark.sql import SparkSession\n",
        "spark = SparkSession.builder.master(\"local[*]\").getOrCreate()\n",
        "# Test the spark\n",
        "df = spark.createDataFrame([{\"hello\": \"world\"} for x in range(1000)])\n",
        "df.show(3, False)"
      ],
      "execution_count": null,
      "outputs": [
        {
          "output_type": "stream",
          "text": [
            "/content/spark-3.0.1-bin-hadoop3.2/python/pyspark/sql/session.py:381: UserWarning: inferring schema from dict is deprecated,please use pyspark.sql.Row instead\n",
            "  warnings.warn(\"inferring schema from dict is deprecated,\"\n"
          ],
          "name": "stderr"
        },
        {
          "output_type": "stream",
          "text": [
            "+-----+\n",
            "|hello|\n",
            "+-----+\n",
            "|world|\n",
            "|world|\n",
            "|world|\n",
            "+-----+\n",
            "only showing top 3 rows\n",
            "\n"
          ],
          "name": "stdout"
        }
      ]
    },
    {
      "cell_type": "code",
      "metadata": {
        "id": "VZqKSwjER7Xp"
      },
      "source": [
        ""
      ],
      "execution_count": null,
      "outputs": []
    },
    {
      "cell_type": "code",
      "metadata": {
        "application/vnd.databricks.v1+cell": {
          "title": "",
          "showTitle": false,
          "inputWidgets": {},
          "nuid": "75476907-4d6f-422a-ac23-b308372ebaf0"
        },
        "id": "86V0CM55QaSL"
      },
      "source": [
        "import os\n",
        "os.environ[\"PYSPARK_PYTHON\"] = \"python3\""
      ],
      "execution_count": null,
      "outputs": []
    },
    {
      "cell_type": "markdown",
      "metadata": {
        "application/vnd.databricks.v1+cell": {
          "title": "",
          "showTitle": false,
          "inputWidgets": {},
          "nuid": "c794e9d0-0144-449d-b5df-bfc43607cb84"
        },
        "id": "SjQTl1uWQaSQ"
      },
      "source": [
        "## Part1: Data ETL and Data Exploration"
      ]
    },
    {
      "cell_type": "code",
      "metadata": {
        "application/vnd.databricks.v1+cell": {
          "title": "",
          "showTitle": false,
          "inputWidgets": {},
          "nuid": "92abf68e-5546-4b36-8c3a-6957929c2b5e"
        },
        "id": "P0w2V2UnQaSR"
      },
      "source": [
        "from pyspark.sql import SparkSession\n",
        "spark = SparkSession \\\n",
        "    .builder \\\n",
        "    .appName(\"moive analysis\") \\\n",
        "    .config(\"spark.some.config.option\", \"some-value\") \\\n",
        "    .getOrCreate()"
      ],
      "execution_count": null,
      "outputs": []
    },
    {
      "cell_type": "code",
      "metadata": {
        "application/vnd.databricks.v1+cell": {
          "title": "",
          "showTitle": false,
          "inputWidgets": {},
          "nuid": "ae2f4ff6-4a47-4ccc-b5cb-372aec75ab1c"
        },
        "id": "zT-zV-tyQaSd"
      },
      "source": [
        "# if using google colab, using this\n",
        "root = \"ml-latest-small/\"\n",
        "# if using databrick\n",
        "databrick_root = \"/FileStore/tables/movielen_small/\"\n",
        "\n",
        "\n",
        "movies_df = spark.read.load(root+\"movies.csv\", format='csv', header = True)\n",
        "ratings_df = spark.read.load(root+ \"ratings.csv\", format='csv', header = True)\n",
        "links_df = spark.read.load(root+\"links.csv\", format='csv', header = True)\n",
        "tags_df = spark.read.load(root+\"tags.csv\", format='csv', header = True)"
      ],
      "execution_count": null,
      "outputs": []
    },
    {
      "cell_type": "code",
      "metadata": {
        "application/vnd.databricks.v1+cell": {
          "title": "",
          "showTitle": false,
          "inputWidgets": {},
          "nuid": "6c243114-2d92-4d3b-90fe-7e7e2fd4033b"
        },
        "id": "RNw84uJVQaSh",
        "colab": {
          "base_uri": "https://localhost:8080/"
        },
        "outputId": "14c87f15-cb81-49e7-d837-7ab5a11d7580"
      },
      "source": [
        "movies_df.show(5)"
      ],
      "execution_count": null,
      "outputs": [
        {
          "output_type": "stream",
          "text": [
            "+-------+--------------------+--------------------+\n",
            "|movieId|               title|              genres|\n",
            "+-------+--------------------+--------------------+\n",
            "|      1|    Toy Story (1995)|Adventure|Animati...|\n",
            "|      2|      Jumanji (1995)|Adventure|Childre...|\n",
            "|      3|Grumpier Old Men ...|      Comedy|Romance|\n",
            "|      4|Waiting to Exhale...|Comedy|Drama|Romance|\n",
            "|      5|Father of the Bri...|              Comedy|\n",
            "+-------+--------------------+--------------------+\n",
            "only showing top 5 rows\n",
            "\n"
          ],
          "name": "stdout"
        }
      ]
    },
    {
      "cell_type": "code",
      "metadata": {
        "application/vnd.databricks.v1+cell": {
          "title": "",
          "showTitle": false,
          "inputWidgets": {},
          "nuid": "fea8824f-19d4-40d8-a964-268d8c5181fb"
        },
        "id": "a0RaDtZqQaSo",
        "colab": {
          "base_uri": "https://localhost:8080/"
        },
        "outputId": "655ec917-3752-487a-d3ff-b17559ba5bed"
      },
      "source": [
        "ratings_df.show(5)"
      ],
      "execution_count": null,
      "outputs": [
        {
          "output_type": "stream",
          "text": [
            "+------+-------+------+---------+\n",
            "|userId|movieId|rating|timestamp|\n",
            "+------+-------+------+---------+\n",
            "|     1|      1|   4.0|964982703|\n",
            "|     1|      3|   4.0|964981247|\n",
            "|     1|      6|   4.0|964982224|\n",
            "|     1|     47|   5.0|964983815|\n",
            "|     1|     50|   5.0|964982931|\n",
            "+------+-------+------+---------+\n",
            "only showing top 5 rows\n",
            "\n"
          ],
          "name": "stdout"
        }
      ]
    },
    {
      "cell_type": "code",
      "metadata": {
        "application/vnd.databricks.v1+cell": {
          "title": "",
          "showTitle": false,
          "inputWidgets": {},
          "nuid": "fe5e154b-75ae-4be8-afac-53c32e7ea9e4"
        },
        "id": "eyax9PulQaSu",
        "colab": {
          "base_uri": "https://localhost:8080/"
        },
        "outputId": "5831d732-1a6b-4759-a597-64ef39f05fe2"
      },
      "source": [
        "links_df.show(5)"
      ],
      "execution_count": null,
      "outputs": [
        {
          "output_type": "stream",
          "text": [
            "+-------+-------+------+\n",
            "|movieId| imdbId|tmdbId|\n",
            "+-------+-------+------+\n",
            "|      1|0114709|   862|\n",
            "|      2|0113497|  8844|\n",
            "|      3|0113228| 15602|\n",
            "|      4|0114885| 31357|\n",
            "|      5|0113041| 11862|\n",
            "+-------+-------+------+\n",
            "only showing top 5 rows\n",
            "\n"
          ],
          "name": "stdout"
        }
      ]
    },
    {
      "cell_type": "code",
      "metadata": {
        "application/vnd.databricks.v1+cell": {
          "title": "",
          "showTitle": false,
          "inputWidgets": {},
          "nuid": "6d8c090b-5e90-4e45-8965-77fb00ebcb19"
        },
        "id": "wmTxRwW5QaSz",
        "colab": {
          "base_uri": "https://localhost:8080/"
        },
        "outputId": "1219f830-0992-4a61-f955-92fa1328de84"
      },
      "source": [
        "tags_df.show(5)"
      ],
      "execution_count": null,
      "outputs": [
        {
          "output_type": "stream",
          "text": [
            "+------+-------+---------------+----------+\n",
            "|userId|movieId|            tag| timestamp|\n",
            "+------+-------+---------------+----------+\n",
            "|     2|  60756|          funny|1445714994|\n",
            "|     2|  60756|Highly quotable|1445714996|\n",
            "|     2|  60756|   will ferrell|1445714992|\n",
            "|     2|  89774|   Boxing story|1445715207|\n",
            "|     2|  89774|            MMA|1445715200|\n",
            "+------+-------+---------------+----------+\n",
            "only showing top 5 rows\n",
            "\n"
          ],
          "name": "stdout"
        }
      ]
    },
    {
      "cell_type": "code",
      "metadata": {
        "application/vnd.databricks.v1+cell": {
          "title": "",
          "showTitle": false,
          "inputWidgets": {},
          "nuid": "1b1afc30-15d2-4bf0-b648-9af19bf831df"
        },
        "id": "WS9DxkXFQaS6",
        "colab": {
          "base_uri": "https://localhost:8080/"
        },
        "outputId": "b56ce23c-a5b6-4658-c987-37de7d4fae8e"
      },
      "source": [
        "tmp1 = ratings_df.groupBy(\"userID\").count().toPandas()['count'].min()\n",
        "tmp2 = ratings_df.groupBy(\"movieId\").count().toPandas()['count'].min()\n",
        "print('For the users that rated movies and the movies that were rated:')\n",
        "print('Minimum number of ratings per user is {}'.format(tmp1))\n",
        "print('Minimum number of ratings per movie is {}'.format(tmp2))"
      ],
      "execution_count": null,
      "outputs": [
        {
          "output_type": "stream",
          "text": [
            "For the users that rated movies and the movies that were rated:\n",
            "Minimum number of ratings per user is 20\n",
            "Minimum number of ratings per movie is 1\n"
          ],
          "name": "stdout"
        }
      ]
    },
    {
      "cell_type": "code",
      "metadata": {
        "application/vnd.databricks.v1+cell": {
          "title": "",
          "showTitle": false,
          "inputWidgets": {},
          "nuid": "7809e986-50b2-430e-a41f-3e6556275e38"
        },
        "id": "XJZ2c-yRQaS9",
        "colab": {
          "base_uri": "https://localhost:8080/"
        },
        "outputId": "a17b4559-cdca-4ad2-c677-f1550173a513"
      },
      "source": [
        "tmp1 = sum(ratings_df.groupBy(\"movieId\").count().toPandas()['count'] == 1)\n",
        "tmp2 = ratings_df.select('movieId').distinct().count()\n",
        "print('{} out of {} movies are rated by only one user'.format(tmp1, tmp2))"
      ],
      "execution_count": null,
      "outputs": [
        {
          "output_type": "stream",
          "text": [
            "3446 out of 9724 movies are rated by only one user\n"
          ],
          "name": "stdout"
        }
      ]
    },
    {
      "cell_type": "markdown",
      "metadata": {
        "application/vnd.databricks.v1+cell": {
          "title": "",
          "showTitle": false,
          "inputWidgets": {},
          "nuid": "d6789883-2c5d-474a-a0bf-81a7e074dbdc"
        },
        "id": "M_CawQqEQaTA"
      },
      "source": [
        "## Part 1: Spark SQL and OLAP\n",
        "\n",
        "---\n",
        "\n"
      ]
    },
    {
      "cell_type": "code",
      "metadata": {
        "application/vnd.databricks.v1+cell": {
          "title": "",
          "showTitle": false,
          "inputWidgets": {},
          "nuid": "01675587-24d6-4858-b5aa-6741f532a278"
        },
        "id": "XoyDy58FQaTB"
      },
      "source": [
        "movies_df.registerTempTable(\"movies\")\n",
        "ratings_df.registerTempTable(\"ratings\")\n",
        "links_df.registerTempTable(\"links\")\n",
        "tags_df.registerTempTable(\"tags\")"
      ],
      "execution_count": null,
      "outputs": []
    },
    {
      "cell_type": "markdown",
      "metadata": {
        "application/vnd.databricks.v1+cell": {
          "title": "",
          "showTitle": false,
          "inputWidgets": {},
          "nuid": "2e0bae1f-cb34-426c-bc49-b75a59adb683"
        },
        "id": "HLpBrNZ4QaTE"
      },
      "source": [
        "### Q1: The number of Users"
      ]
    },
    {
      "cell_type": "code",
      "metadata": {
        "application/vnd.databricks.v1+cell": {
          "title": "",
          "showTitle": false,
          "inputWidgets": {},
          "nuid": "9b993092-38d0-492b-a324-54fc413144e3"
        },
        "id": "KuWk4yisQaTE",
        "colab": {
          "base_uri": "https://localhost:8080/"
        },
        "outputId": "bf75f770-66d9-4a23-8fe5-4f29a36050be"
      },
      "source": [
        "# Using SQL + Spark method\n",
        "user_count = spark.sql(\"select count(distinct userId) as user_count from ratings\")\n",
        "# Using pyspark\n",
        "# user_count = ratings_df.select([\"userId\"]).distinct().count()\n",
        "user_count.show()"
      ],
      "execution_count": null,
      "outputs": [
        {
          "output_type": "stream",
          "text": [
            "+----------+\n",
            "|user_count|\n",
            "+----------+\n",
            "|       610|\n",
            "+----------+\n",
            "\n"
          ],
          "name": "stdout"
        }
      ]
    },
    {
      "cell_type": "markdown",
      "metadata": {
        "application/vnd.databricks.v1+cell": {
          "title": "",
          "showTitle": false,
          "inputWidgets": {},
          "nuid": "fbac655f-ed58-443f-8062-37847bb1d8fd"
        },
        "id": "Doo-7ORsQaTO"
      },
      "source": [
        "### Q2: The number of Movies"
      ]
    },
    {
      "cell_type": "code",
      "metadata": {
        "application/vnd.databricks.v1+cell": {
          "title": "",
          "showTitle": false,
          "inputWidgets": {},
          "nuid": "0084092d-3b9e-4062-b35a-1986d8dd57e8"
        },
        "id": "XkbIHFwDQaTP",
        "colab": {
          "base_uri": "https://localhost:8080/"
        },
        "outputId": "1a697e34-f1b1-49d4-b976-1222066bf9bd"
      },
      "source": [
        "# %sql \n",
        "# Using SQL\n",
        "movie_count = spark.sql(\"select count(distinct movieId) as movie_count from movies\")\n",
        "movie_count.show()"
      ],
      "execution_count": null,
      "outputs": [
        {
          "output_type": "stream",
          "text": [
            "+-----------+\n",
            "|movie_count|\n",
            "+-----------+\n",
            "|       9742|\n",
            "+-----------+\n",
            "\n"
          ],
          "name": "stdout"
        }
      ]
    },
    {
      "cell_type": "markdown",
      "metadata": {
        "application/vnd.databricks.v1+cell": {
          "title": "",
          "showTitle": false,
          "inputWidgets": {},
          "nuid": "531dd422-165b-4f88-9835-cfe389007d8d"
        },
        "id": "6pG4wG7fQaTX"
      },
      "source": [
        "### Q3:  How many movies are rated by users? List movies not rated before"
      ]
    },
    {
      "cell_type": "markdown",
      "metadata": {
        "id": "hk0iJWTJ24kz"
      },
      "source": [
        "#### 3.1 show the number of movie rated"
      ]
    },
    {
      "cell_type": "code",
      "metadata": {
        "application/vnd.databricks.v1+cell": {
          "title": "",
          "showTitle": false,
          "inputWidgets": {},
          "nuid": "f4f153c4-3f9f-49e3-bfe7-d8b51fd068ef"
        },
        "id": "EnAjMTmNQaTa",
        "colab": {
          "base_uri": "https://localhost:8080/"
        },
        "outputId": "b369f4c3-2be7-4ef9-f969-fad590b77f7a"
      },
      "source": [
        "from pyspark.sql.functions import col\n",
        "# %sql \n",
        "# Show number of movies rated\n",
        "movie_rated = spark.sql(\"select count(distinct movieId) from movies where movieId in (select distinct movieId from ratings)\")\n",
        "movie_rated.show()\n"
      ],
      "execution_count": null,
      "outputs": [
        {
          "output_type": "stream",
          "text": [
            "+-----------------------+\n",
            "|count(DISTINCT movieId)|\n",
            "+-----------------------+\n",
            "|                   9724|\n",
            "+-----------------------+\n",
            "\n"
          ],
          "name": "stdout"
        }
      ]
    },
    {
      "cell_type": "markdown",
      "metadata": {
        "id": "EgvsEeRH2-2A"
      },
      "source": [
        "#### 3.2 list movies that are not rated before"
      ]
    },
    {
      "cell_type": "code",
      "metadata": {
        "application/vnd.databricks.v1+cell": {
          "title": "",
          "showTitle": false,
          "inputWidgets": {},
          "nuid": "82b9dbb1-2b3e-4831-9dab-d58e92b4fbad"
        },
        "id": "LQZqRLbxQaTf",
        "colab": {
          "base_uri": "https://localhost:8080/"
        },
        "outputId": "0f17a191-c39a-4428-8dd9-83a5d2f45842"
      },
      "source": [
        "# %sql \n",
        "# Show movies that are not rated\n",
        "movie_not_rated = spark.sql(\"select distinct movieId, title from movies where movieId not in (select distinct movieId from ratings)\")\n",
        "movie_not_rated.show()"
      ],
      "execution_count": null,
      "outputs": [
        {
          "output_type": "stream",
          "text": [
            "+-------+--------------------+\n",
            "|movieId|               title|\n",
            "+-------+--------------------+\n",
            "|   3338|For All Mankind (...|\n",
            "|  34482|Browning Version,...|\n",
            "|   2939|      Niagara (1953)|\n",
            "|   3456|Color of Paradise...|\n",
            "|  30892|In the Realms of ...|\n",
            "|   7792|Parallax View, Th...|\n",
            "|  32160|Twentieth Century...|\n",
            "|  26085|Mutiny on the Bou...|\n",
            "|   1076|Innocents, The (1...|\n",
            "|   4194|I Know Where I'm ...|\n",
            "|  32371|Call Northside 77...|\n",
            "|  25855|Roaring Twenties,...|\n",
            "|   5721|  Chosen, The (1981)|\n",
            "|   8765|This Gun for Hire...|\n",
            "|   6668|Road Home, The (W...|\n",
            "|   6849|      Scrooge (1970)|\n",
            "|   7020|        Proof (1991)|\n",
            "|  85565|  Chalet Girl (2011)|\n",
            "+-------+--------------------+\n",
            "\n"
          ],
          "name": "stdout"
        }
      ]
    },
    {
      "cell_type": "markdown",
      "metadata": {
        "id": "xUsUMvr6A_DJ"
      },
      "source": [
        "#### The amount of movies that are not counted before "
      ]
    },
    {
      "cell_type": "code",
      "metadata": {
        "id": "jm39WNh8ihez",
        "colab": {
          "base_uri": "https://localhost:8080/"
        },
        "outputId": "d062bded-0427-4ddb-b222-3fb79a84610a"
      },
      "source": [
        "count_not_rated = movie_not_rated.count()\n",
        "count_not_rated"
      ],
      "execution_count": null,
      "outputs": [
        {
          "output_type": "execute_result",
          "data": {
            "text/plain": [
              "18"
            ]
          },
          "metadata": {
            "tags": []
          },
          "execution_count": 21
        }
      ]
    },
    {
      "cell_type": "markdown",
      "metadata": {
        "id": "kO4CGaTM4Dio"
      },
      "source": [
        "#### I want to check if there are missing values in rating as well here"
      ]
    },
    {
      "cell_type": "code",
      "metadata": {
        "id": "CkVPZCbz3VsE",
        "colab": {
          "base_uri": "https://localhost:8080/"
        },
        "outputId": "903735be-018d-4b98-9efe-029ca0169783"
      },
      "source": [
        "rating_missing_value = spark.sql(\"select * from ratings where rating = NULL or timestamp = NULL or userId=NULL or movieId=NULL\")\n",
        "rating_missing_value.show()"
      ],
      "execution_count": null,
      "outputs": [
        {
          "output_type": "stream",
          "text": [
            "+------+-------+------+---------+\n",
            "|userId|movieId|rating|timestamp|\n",
            "+------+-------+------+---------+\n",
            "+------+-------+------+---------+\n",
            "\n"
          ],
          "name": "stdout"
        }
      ]
    },
    {
      "cell_type": "markdown",
      "metadata": {
        "id": "jck7c2pz55RC"
      },
      "source": [
        "#### It seems like there is no null values  in the table that we are interested in"
      ]
    },
    {
      "cell_type": "code",
      "metadata": {
        "id": "CRsMgqPH4Obn",
        "colab": {
          "base_uri": "https://localhost:8080/"
        },
        "outputId": "30f11fa3-9996-46a5-fe3d-74d1cf406ab0"
      },
      "source": [
        "# movie_missing_value = spark.sql(\"select movieId from movies where title = NULL or genres = NULL\")\n",
        "movie_missing_value= movies_df.where(col('title').isNull() | col('genres').isNull())\n",
        "movie_missing_value.show()"
      ],
      "execution_count": null,
      "outputs": [
        {
          "output_type": "stream",
          "text": [
            "+-------+-----+------+\n",
            "|movieId|title|genres|\n",
            "+-------+-----+------+\n",
            "+-------+-----+------+\n",
            "\n"
          ],
          "name": "stdout"
        }
      ]
    },
    {
      "cell_type": "markdown",
      "metadata": {
        "application/vnd.databricks.v1+cell": {
          "title": "",
          "showTitle": false,
          "inputWidgets": {},
          "nuid": "b80ebe1f-d3fa-4117-b6b2-0d87ef16280a"
        },
        "id": "s3sfzK_ZQaWR"
      },
      "source": [
        "### Q4: List Movie Genres"
      ]
    },
    {
      "cell_type": "markdown",
      "metadata": {
        "id": "8wWbwOzl60xe"
      },
      "source": [
        "#### Directly list movie genres"
      ]
    },
    {
      "cell_type": "code",
      "metadata": {
        "application/vnd.databricks.v1+cell": {
          "title": "",
          "showTitle": false,
          "inputWidgets": {},
          "nuid": "70ae679e-811a-4f34-b077-a8dd499bfda8"
        },
        "id": "9GDrqoFaQaWS",
        "colab": {
          "base_uri": "https://localhost:8080/"
        },
        "outputId": "6110194f-bd20-4266-8327-ce3622a80745"
      },
      "source": [
        "# %sql\n",
        "#Using SQL + PySpark method\n",
        "# directly list movie genres\n",
        "movie_genres_df = spark.sql(\"select distinct genres as genres_count from movies\")\n",
        "movie_genres_df.show()"
      ],
      "execution_count": null,
      "outputs": [
        {
          "output_type": "stream",
          "text": [
            "+--------------------+\n",
            "|        genres_count|\n",
            "+--------------------+\n",
            "|Comedy|Horror|Thr...|\n",
            "|Adventure|Sci-Fi|...|\n",
            "|Action|Adventure|...|\n",
            "| Action|Drama|Horror|\n",
            "|Action|Animation|...|\n",
            "|Animation|Childre...|\n",
            "|Action|Adventure|...|\n",
            "|    Adventure|Sci-Fi|\n",
            "|Documentary|Music...|\n",
            "|Adventure|Childre...|\n",
            "| Adventure|Animation|\n",
            "| Musical|Romance|War|\n",
            "|Action|Adventure|...|\n",
            "|Adventure|Childre...|\n",
            "|Comedy|Crime|Horr...|\n",
            "|Crime|Drama|Fanta...|\n",
            "|Comedy|Mystery|Th...|\n",
            "|   Adventure|Fantasy|\n",
            "|Horror|Romance|Sc...|\n",
            "|Drama|Film-Noir|R...|\n",
            "+--------------------+\n",
            "only showing top 20 rows\n",
            "\n"
          ],
          "name": "stdout"
        }
      ]
    },
    {
      "cell_type": "markdown",
      "metadata": {
        "id": "0COcfMD964m8"
      },
      "source": [
        "#### Split genres and then list movie genres"
      ]
    },
    {
      "cell_type": "code",
      "metadata": {
        "id": "ykkul8V0q9db",
        "colab": {
          "base_uri": "https://localhost:8080/"
        },
        "outputId": "c6ad4d22-84e8-4463-e3f2-f121b8f83907"
      },
      "source": [
        "# splite movie genres and then count\n",
        "from pyspark.sql.functions import col, explode, split\n",
        "movie_genres = movies_df.withColumn(\"splited_genres\", explode(split(col(\"genres\"),\"[|]\")))\n",
        "splited_genres_df = movie_genres.select([\"splited_genres\"]).distinct().orderBy(\"splited_genres\",ascending=True)\n",
        "splited_genres_df.show()\n"
      ],
      "execution_count": null,
      "outputs": [
        {
          "output_type": "stream",
          "text": [
            "+------------------+\n",
            "|    splited_genres|\n",
            "+------------------+\n",
            "|(no genres listed)|\n",
            "|            Action|\n",
            "|         Adventure|\n",
            "|         Animation|\n",
            "|          Children|\n",
            "|            Comedy|\n",
            "|             Crime|\n",
            "|       Documentary|\n",
            "|             Drama|\n",
            "|           Fantasy|\n",
            "|         Film-Noir|\n",
            "|            Horror|\n",
            "|              IMAX|\n",
            "|           Musical|\n",
            "|           Mystery|\n",
            "|           Romance|\n",
            "|            Sci-Fi|\n",
            "|          Thriller|\n",
            "|               War|\n",
            "|           Western|\n",
            "+------------------+\n",
            "\n"
          ],
          "name": "stdout"
        }
      ]
    },
    {
      "cell_type": "markdown",
      "metadata": {
        "application/vnd.databricks.v1+cell": {
          "title": "",
          "showTitle": false,
          "inputWidgets": {},
          "nuid": "9dd29641-a24a-4c54-b16e-78cc2e6f25ee"
        },
        "id": "P-192a5DQaWd"
      },
      "source": [
        "### Q5: Movie for Each Category"
      ]
    },
    {
      "cell_type": "code",
      "metadata": {
        "application/vnd.databricks.v1+cell": {
          "title": "",
          "showTitle": false,
          "inputWidgets": {},
          "nuid": "13cd4135-9b69-417e-bda7-94ccebe2960d"
        },
        "id": "_xUwwPaJQaWd",
        "colab": {
          "base_uri": "https://localhost:8080/"
        },
        "outputId": "9a626f5b-2529-4dc3-e643-97b08f0d66e6"
      },
      "source": [
        "# %sql\n",
        "# Using SQL + Pyspark method\n",
        "category_movie_count = spark.sql(\" with movie_category as (select distinct (explode(split(genres, '[|]'))) as category, * from movies) \\\n",
        "                  select category, count(category) as category_count from movie_category group by category order by category_count desc\")\n",
        "category_movie_count.show()\n",
        "print(\"Number of categories: \",len(category_movie_count.collect()))"
      ],
      "execution_count": null,
      "outputs": [
        {
          "output_type": "stream",
          "text": [
            "+------------------+--------------+\n",
            "|          category|category_count|\n",
            "+------------------+--------------+\n",
            "|             Drama|          4361|\n",
            "|            Comedy|          3756|\n",
            "|          Thriller|          1894|\n",
            "|            Action|          1828|\n",
            "|           Romance|          1596|\n",
            "|         Adventure|          1263|\n",
            "|             Crime|          1199|\n",
            "|            Sci-Fi|           980|\n",
            "|            Horror|           978|\n",
            "|           Fantasy|           779|\n",
            "|          Children|           664|\n",
            "|         Animation|           611|\n",
            "|           Mystery|           573|\n",
            "|       Documentary|           440|\n",
            "|               War|           382|\n",
            "|           Musical|           334|\n",
            "|           Western|           167|\n",
            "|              IMAX|           158|\n",
            "|         Film-Noir|            87|\n",
            "|(no genres listed)|            34|\n",
            "+------------------+--------------+\n",
            "\n",
            "Number of categories:  20\n"
          ],
          "name": "stdout"
        }
      ]
    },
    {
      "cell_type": "markdown",
      "metadata": {
        "id": "jfJWUqjc8vUo"
      },
      "source": [
        "## Analysis: \n",
        "It seems like the dataset is actually incomplete, despite there is no null values, since there are 34 items labeled as **(no genres listed)**. \n",
        "\n",
        "However, Since we will use Non-negative Matrix Factorization method for movie recommendation system, which only cares the userId and movieId, without considering categories, **I don't drop the movies that are labeled as (no genres listed)**"
      ]
    },
    {
      "cell_type": "code",
      "metadata": {
        "application/vnd.databricks.v1+cell": {
          "title": "",
          "showTitle": false,
          "inputWidgets": {},
          "nuid": "35af432e-9411-45d2-8319-d7620ee1b72c"
        },
        "id": "d79A02WfQaWi",
        "colab": {
          "base_uri": "https://localhost:8080/"
        },
        "outputId": "83b5ac27-ffe3-4194-ae51-26d6b6bc6ff0"
      },
      "source": [
        "#Using PySpark method\n",
        "from pyspark.sql.functions import col, explode, split\n",
        "movie_genres = movies_df.withColumn(\"splited_genres\", explode(split(col(\"genres\"),\"[|]\")))\n",
        "splited_genres_df = movie_genres.groupBy([\"splited_genres\"]).count().orderBy(\"count\",ascending=False)\n",
        "splited_genres_df = splited_genres_df.withColumnRenamed('count','category_count')\n",
        "splited_genres_df.show()"
      ],
      "execution_count": null,
      "outputs": [
        {
          "output_type": "stream",
          "text": [
            "+------------------+--------------+\n",
            "|    splited_genres|category_count|\n",
            "+------------------+--------------+\n",
            "|             Drama|          4361|\n",
            "|            Comedy|          3756|\n",
            "|          Thriller|          1894|\n",
            "|            Action|          1828|\n",
            "|           Romance|          1596|\n",
            "|         Adventure|          1263|\n",
            "|             Crime|          1199|\n",
            "|            Sci-Fi|           980|\n",
            "|            Horror|           978|\n",
            "|           Fantasy|           779|\n",
            "|          Children|           664|\n",
            "|         Animation|           611|\n",
            "|           Mystery|           573|\n",
            "|       Documentary|           440|\n",
            "|               War|           382|\n",
            "|           Musical|           334|\n",
            "|           Western|           167|\n",
            "|              IMAX|           158|\n",
            "|         Film-Noir|            87|\n",
            "|(no genres listed)|            34|\n",
            "+------------------+--------------+\n",
            "\n"
          ],
          "name": "stdout"
        }
      ]
    },
    {
      "cell_type": "markdown",
      "metadata": {
        "id": "GE_XACBbAei0"
      },
      "source": [
        "show the movie with genres labeled as \"(no genres listed)\""
      ]
    },
    {
      "cell_type": "code",
      "metadata": {
        "id": "Hei0OMet7d2C",
        "colab": {
          "base_uri": "https://localhost:8080/"
        },
        "outputId": "40a7371b-992d-4a2f-a993-fd85f2b942d5"
      },
      "source": [
        "movie_genres.where(col(\"splited_genres\").isin([\"(no genres listed)\"])).join(movies_df,\"movieId\",\"left\").show()"
      ],
      "execution_count": null,
      "outputs": [
        {
          "output_type": "stream",
          "text": [
            "+-------+--------------------+------------------+------------------+--------------------+------------------+\n",
            "|movieId|               title|            genres|    splited_genres|               title|            genres|\n",
            "+-------+--------------------+------------------+------------------+--------------------+------------------+\n",
            "| 114335|   La cravate (1957)|(no genres listed)|(no genres listed)|   La cravate (1957)|(no genres listed)|\n",
            "| 122888|      Ben-hur (2016)|(no genres listed)|(no genres listed)|      Ben-hur (2016)|(no genres listed)|\n",
            "| 122896|Pirates of the Ca...|(no genres listed)|(no genres listed)|Pirates of the Ca...|(no genres listed)|\n",
            "| 129250|   Superfast! (2015)|(no genres listed)|(no genres listed)|   Superfast! (2015)|(no genres listed)|\n",
            "| 132084| Let It Be Me (1995)|(no genres listed)|(no genres listed)| Let It Be Me (1995)|(no genres listed)|\n",
            "| 134861|Trevor Noah: Afri...|(no genres listed)|(no genres listed)|Trevor Noah: Afri...|(no genres listed)|\n",
            "| 141131|    Guardians (2016)|(no genres listed)|(no genres listed)|    Guardians (2016)|(no genres listed)|\n",
            "| 141866|   Green Room (2015)|(no genres listed)|(no genres listed)|   Green Room (2015)|(no genres listed)|\n",
            "| 142456|The Brand New Tes...|(no genres listed)|(no genres listed)|The Brand New Tes...|(no genres listed)|\n",
            "| 143410|          Hyena Road|(no genres listed)|(no genres listed)|          Hyena Road|(no genres listed)|\n",
            "| 147250|The Adventures of...|(no genres listed)|(no genres listed)|The Adventures of...|(no genres listed)|\n",
            "| 149330|A Cosmic Christma...|(no genres listed)|(no genres listed)|A Cosmic Christma...|(no genres listed)|\n",
            "| 152037|  Grease Live (2016)|(no genres listed)|(no genres listed)|  Grease Live (2016)|(no genres listed)|\n",
            "| 155589|Noin 7 veljestä (...|(no genres listed)|(no genres listed)|Noin 7 veljestä (...|(no genres listed)|\n",
            "| 156605|            Paterson|(no genres listed)|(no genres listed)|            Paterson|(no genres listed)|\n",
            "| 159161|Ali Wong: Baby Co...|(no genres listed)|(no genres listed)|Ali Wong: Baby Co...|(no genres listed)|\n",
            "| 159779|A Midsummer Night...|(no genres listed)|(no genres listed)|A Midsummer Night...|(no genres listed)|\n",
            "| 161008|The Forbidden Dan...|(no genres listed)|(no genres listed)|The Forbidden Dan...|(no genres listed)|\n",
            "| 165489|Ethel & Ernest (2...|(no genres listed)|(no genres listed)|Ethel & Ernest (2...|(no genres listed)|\n",
            "| 166024|     Whiplash (2013)|(no genres listed)|(no genres listed)|     Whiplash (2013)|(no genres listed)|\n",
            "+-------+--------------------+------------------+------------------+--------------------+------------------+\n",
            "only showing top 20 rows\n",
            "\n"
          ],
          "name": "stdout"
        }
      ]
    },
    {
      "cell_type": "markdown",
      "metadata": {
        "application/vnd.databricks.v1+cell": {
          "title": "",
          "showTitle": false,
          "inputWidgets": {},
          "nuid": "4f88d5b0-dfda-4ad1-9bdf-6c3e8d8d47c1"
        },
        "id": "q2KsEXrRQaWo"
      },
      "source": [
        "## Part2: Spark ALS based approach for training model\n",
        "We will use an Spark ML to predict the ratings, so let's reload \"ratings.csv\" using ``sc.textFile`` and then convert it to the form of (user, item, rating) tuples."
      ]
    },
    {
      "cell_type": "code",
      "metadata": {
        "application/vnd.databricks.v1+cell": {
          "title": "",
          "showTitle": false,
          "inputWidgets": {},
          "nuid": "368dcb1e-9359-491d-9813-f9e6f374139c"
        },
        "id": "OSRavqE2QaWo",
        "colab": {
          "base_uri": "https://localhost:8080/"
        },
        "outputId": "af238f98-ada0-498d-9c08-41a99b5a5816"
      },
      "source": [
        "ratings_df.show()"
      ],
      "execution_count": null,
      "outputs": [
        {
          "output_type": "stream",
          "text": [
            "+------+-------+------+---------+\n",
            "|userId|movieId|rating|timestamp|\n",
            "+------+-------+------+---------+\n",
            "|     1|      1|   4.0|964982703|\n",
            "|     1|      3|   4.0|964981247|\n",
            "|     1|      6|   4.0|964982224|\n",
            "|     1|     47|   5.0|964983815|\n",
            "|     1|     50|   5.0|964982931|\n",
            "|     1|     70|   3.0|964982400|\n",
            "|     1|    101|   5.0|964980868|\n",
            "|     1|    110|   4.0|964982176|\n",
            "|     1|    151|   5.0|964984041|\n",
            "|     1|    157|   5.0|964984100|\n",
            "|     1|    163|   5.0|964983650|\n",
            "|     1|    216|   5.0|964981208|\n",
            "|     1|    223|   3.0|964980985|\n",
            "|     1|    231|   5.0|964981179|\n",
            "|     1|    235|   4.0|964980908|\n",
            "|     1|    260|   5.0|964981680|\n",
            "|     1|    296|   3.0|964982967|\n",
            "|     1|    316|   3.0|964982310|\n",
            "|     1|    333|   5.0|964981179|\n",
            "|     1|    349|   4.0|964982563|\n",
            "+------+-------+------+---------+\n",
            "only showing top 20 rows\n",
            "\n"
          ],
          "name": "stdout"
        }
      ]
    },
    {
      "cell_type": "code",
      "metadata": {
        "application/vnd.databricks.v1+cell": {
          "title": "",
          "showTitle": false,
          "inputWidgets": {},
          "nuid": "11e3347b-5f16-4fa3-ab5b-5a406b9d719b"
        },
        "id": "sUx0gZcTQaWw"
      },
      "source": [
        "movie_ratings=ratings_df.drop('timestamp')"
      ],
      "execution_count": null,
      "outputs": []
    },
    {
      "cell_type": "code",
      "metadata": {
        "application/vnd.databricks.v1+cell": {
          "title": "",
          "showTitle": false,
          "inputWidgets": {},
          "nuid": "c7519b79-2e69-44cb-a27f-d42145915ad5"
        },
        "id": "nTE9lJy4QaW3"
      },
      "source": [
        "# Data type convert\n",
        "from pyspark.sql.types import IntegerType, FloatType\n",
        "movie_ratings = movie_ratings.withColumn(\"userId\", movie_ratings[\"userId\"].cast(IntegerType()))\n",
        "movie_ratings = movie_ratings.withColumn(\"movieId\", movie_ratings[\"movieId\"].cast(IntegerType()))\n",
        "movie_ratings = movie_ratings.withColumn(\"rating\", movie_ratings[\"rating\"].cast(FloatType()))"
      ],
      "execution_count": null,
      "outputs": []
    },
    {
      "cell_type": "code",
      "metadata": {
        "application/vnd.databricks.v1+cell": {
          "title": "",
          "showTitle": false,
          "inputWidgets": {},
          "nuid": "a0331c1b-26a9-4874-8217-f7f94f788f2a"
        },
        "id": "7GHDuxo0QaW8",
        "colab": {
          "base_uri": "https://localhost:8080/"
        },
        "outputId": "33e635b0-7186-417b-e69b-12334c300118"
      },
      "source": [
        "movie_ratings.show()"
      ],
      "execution_count": null,
      "outputs": [
        {
          "output_type": "stream",
          "text": [
            "+------+-------+------+\n",
            "|userId|movieId|rating|\n",
            "+------+-------+------+\n",
            "|     1|      1|   4.0|\n",
            "|     1|      3|   4.0|\n",
            "|     1|      6|   4.0|\n",
            "|     1|     47|   5.0|\n",
            "|     1|     50|   5.0|\n",
            "|     1|     70|   3.0|\n",
            "|     1|    101|   5.0|\n",
            "|     1|    110|   4.0|\n",
            "|     1|    151|   5.0|\n",
            "|     1|    157|   5.0|\n",
            "|     1|    163|   5.0|\n",
            "|     1|    216|   5.0|\n",
            "|     1|    223|   3.0|\n",
            "|     1|    231|   5.0|\n",
            "|     1|    235|   4.0|\n",
            "|     1|    260|   5.0|\n",
            "|     1|    296|   3.0|\n",
            "|     1|    316|   3.0|\n",
            "|     1|    333|   5.0|\n",
            "|     1|    349|   4.0|\n",
            "+------+-------+------+\n",
            "only showing top 20 rows\n",
            "\n"
          ],
          "name": "stdout"
        }
      ]
    },
    {
      "cell_type": "markdown",
      "metadata": {
        "application/vnd.databricks.v1+cell": {
          "title": "",
          "showTitle": false,
          "inputWidgets": {},
          "nuid": "f8fced8f-9726-4596-9e42-eb3da45bdfae"
        },
        "id": "zEnHxsRnQaXD"
      },
      "source": [
        "### ALS Model Selection and Evaluation\n",
        "\n",
        "With the ALS model, we can use a grid search to find the optimal hyperparameters."
      ]
    },
    {
      "cell_type": "code",
      "metadata": {
        "application/vnd.databricks.v1+cell": {
          "title": "",
          "showTitle": false,
          "inputWidgets": {},
          "nuid": "1f1b9a45-4483-43ac-8ddc-0255696a311a"
        },
        "id": "0xfmelQ5QaXE"
      },
      "source": [
        "# import package\n",
        "from pyspark.ml.evaluation import RegressionEvaluator\n",
        "from pyspark.ml.recommendation import ALS\n",
        "from pyspark.ml.tuning import CrossValidator,ParamGridBuilder"
      ],
      "execution_count": null,
      "outputs": []
    },
    {
      "cell_type": "code",
      "metadata": {
        "application/vnd.databricks.v1+cell": {
          "title": "",
          "showTitle": false,
          "inputWidgets": {},
          "nuid": "43a2747c-9853-4e87-8243-d080e6403af5"
        },
        "id": "vP4lqxJZQaXI"
      },
      "source": [
        "#Create test and train set\n",
        "(training,test)=movie_ratings.randomSplit([0.8,0.2])"
      ],
      "execution_count": null,
      "outputs": []
    },
    {
      "cell_type": "code",
      "metadata": {
        "application/vnd.databricks.v1+cell": {
          "title": "",
          "showTitle": false,
          "inputWidgets": {},
          "nuid": "5a4f8daa-3be8-4b46-a3fa-3137f0b0af6f"
        },
        "id": "es8AIKvYQaXL",
        "colab": {
          "base_uri": "https://localhost:8080/"
        },
        "outputId": "5297e0bd-f2a3-4b11-adf9-f03a42efa393"
      },
      "source": [
        "#Create ALS model\n",
        "len(movie_ratings.select([\"userId\"]).distinct().collect()),len(movie_ratings.select([\"movieId\"]).distinct().collect())"
      ],
      "execution_count": null,
      "outputs": [
        {
          "output_type": "execute_result",
          "data": {
            "text/plain": [
              "(610, 9724)"
            ]
          },
          "metadata": {
            "tags": []
          },
          "execution_count": 35
        }
      ]
    },
    {
      "cell_type": "markdown",
      "metadata": {
        "id": "ePwRZgbS3Rcs"
      },
      "source": [
        "## Apply ALS (alternative least square) algorithm for matrix factorization"
      ]
    },
    {
      "cell_type": "code",
      "metadata": {
        "id": "jANKpj7X3Q1A",
        "colab": {
          "base_uri": "https://localhost:8080/"
        },
        "outputId": "31fb09da-daac-4328-bf8c-ccf32e912f19"
      },
      "source": [
        "als_model = ALS(rank=10, maxIter=10,coldStartStrategy='drop' )\n",
        "als_model.setUserCol(\"userId\")\n",
        "als_model.setItemCol(\"movieId\")\n",
        "als_model.setRatingCol(\"rating\")\n",
        "als_model.setPredictionCol(\"Prediction\")\n",
        "als_model.getUserCol(),als_model.getItemCol(),als_model.getRatingCol(),als_model.getPredictionCol(),"
      ],
      "execution_count": null,
      "outputs": [
        {
          "output_type": "execute_result",
          "data": {
            "text/plain": [
              "('userId', 'movieId', 'rating', 'Prediction')"
            ]
          },
          "metadata": {
            "tags": []
          },
          "execution_count": 36
        }
      ]
    },
    {
      "cell_type": "code",
      "metadata": {
        "application/vnd.databricks.v1+cell": {
          "title": "",
          "showTitle": false,
          "inputWidgets": {},
          "nuid": "2b8ba943-2d3a-4013-8d80-42806d1db558"
        },
        "id": "tQOJ6vMOQaXR"
      },
      "source": [
        "#Tune model using ParamGridBuilder\n",
        "grid = ParamGridBuilder()\\\n",
        "  .baseOn({als_model.predictionCol:\"Prediction\"})\\\n",
        "  .addGrid(als_model.regParam,[0.1,0.5,0.8])\\\n",
        "  .addGrid(als_model.rank,[5,10,15])\\\n",
        "  .build()"
      ],
      "execution_count": null,
      "outputs": []
    },
    {
      "cell_type": "code",
      "metadata": {
        "application/vnd.databricks.v1+cell": {
          "title": "",
          "showTitle": false,
          "inputWidgets": {},
          "nuid": "dcaac224-4205-4385-9802-6d4b17e3209d"
        },
        "id": "LjCnrnEtQaXV"
      },
      "source": [
        "# Define evaluator as RMSE\n",
        "evaluator= RegressionEvaluator(predictionCol=\"Prediction\",labelCol=\"rating\",metricName=\"rmse\")"
      ],
      "execution_count": null,
      "outputs": []
    },
    {
      "cell_type": "code",
      "metadata": {
        "application/vnd.databricks.v1+cell": {
          "title": "",
          "showTitle": false,
          "inputWidgets": {},
          "nuid": "6d681ab5-8d48-4c10-9b91-d1c11ec8dfc0"
        },
        "id": "nXc787qhQaXa"
      },
      "source": [
        "# Build Cross validation \n",
        "cv = CrossValidator(estimator=als_model, \n",
        "            estimatorParamMaps=grid,\n",
        "            evaluator=evaluator,\n",
        "            numFolds=5,seed=2020,parallelism=2)"
      ],
      "execution_count": null,
      "outputs": []
    },
    {
      "cell_type": "code",
      "metadata": {
        "application/vnd.databricks.v1+cell": {
          "title": "",
          "showTitle": false,
          "inputWidgets": {},
          "nuid": "14943456-de4f-4c5b-8e13-3e4d5eb73b19"
        },
        "id": "8aIUJru2QaXd"
      },
      "source": [
        "#Fit ALS model to training data\n",
        "cvModel = cv.fit(training)"
      ],
      "execution_count": null,
      "outputs": []
    },
    {
      "cell_type": "code",
      "metadata": {
        "application/vnd.databricks.v1+cell": {
          "title": "",
          "showTitle": false,
          "inputWidgets": {},
          "nuid": "b57cf752-da86-44f1-b1d7-adaa247b0fc7"
        },
        "id": "R2AiWecXQaXg",
        "colab": {
          "base_uri": "https://localhost:8080/"
        },
        "outputId": "24c2b327-6f19-4635-b19c-3e4e0d454118"
      },
      "source": [
        "#Extract best model from the tuning exercise using ParamGridBuilder\n",
        "best_model = cvModel.bestModel\n",
        "best_model"
      ],
      "execution_count": null,
      "outputs": [
        {
          "output_type": "execute_result",
          "data": {
            "text/plain": [
              "ALSModel: uid=ALS_d2f750307fda, rank=5"
            ]
          },
          "metadata": {
            "tags": []
          },
          "execution_count": 41
        }
      ]
    },
    {
      "cell_type": "markdown",
      "metadata": {
        "application/vnd.databricks.v1+cell": {
          "title": "",
          "showTitle": false,
          "inputWidgets": {},
          "nuid": "7753ebce-2e72-4c54-86d5-ad8db558e870"
        },
        "id": "gBIa8zVwQaXj"
      },
      "source": [
        "### Model testing\n",
        "And finally, make a prediction and check the testing error."
      ]
    },
    {
      "cell_type": "code",
      "metadata": {
        "application/vnd.databricks.v1+cell": {
          "title": "",
          "showTitle": false,
          "inputWidgets": {},
          "nuid": "b144bfac-2851-444f-a165-4c9cd19de999"
        },
        "id": "lvJdtBsBQaXj"
      },
      "source": [
        "#Generate predictions and evaluate using RMSE\n",
        "predictions=best_model.transform(test)\n",
        "rmse = evaluator.evaluate(predictions)"
      ],
      "execution_count": null,
      "outputs": []
    },
    {
      "cell_type": "code",
      "metadata": {
        "application/vnd.databricks.v1+cell": {
          "title": "",
          "showTitle": false,
          "inputWidgets": {},
          "nuid": "e63a2bae-ec36-43b9-a2e2-981b39051b95"
        },
        "id": "RRJXs2JNQaXm",
        "colab": {
          "base_uri": "https://localhost:8080/"
        },
        "outputId": "1bc7bee3-5443-4753-a5aa-cb6d85243415"
      },
      "source": [
        "#Print evaluation metrics and model parameters\n",
        "print (\"RMSE = \"+str(rmse))\n",
        "print (\"**Best Model**\")\n",
        "print (\" Rank:\",best_model.rank), \n",
        "print (\" MaxIter:\", best_model._java_obj.parent().getMaxIter()), \n",
        "print (\" RegParam:\",best_model._java_obj.parent().getRegParam()), "
      ],
      "execution_count": null,
      "outputs": [
        {
          "output_type": "stream",
          "text": [
            "RMSE = 0.8798379591077872\n",
            "**Best Model**\n",
            " Rank: 5\n",
            " MaxIter: 10\n",
            " RegParam: 0.1\n"
          ],
          "name": "stdout"
        },
        {
          "output_type": "execute_result",
          "data": {
            "text/plain": [
              "(None,)"
            ]
          },
          "metadata": {
            "tags": []
          },
          "execution_count": 43
        }
      ]
    },
    {
      "cell_type": "code",
      "metadata": {
        "application/vnd.databricks.v1+cell": {
          "title": "",
          "showTitle": false,
          "inputWidgets": {},
          "nuid": "7bc6747f-d719-4238-a104-0fc2e6de7432"
        },
        "id": "uYXqjFAfQaXp",
        "colab": {
          "base_uri": "https://localhost:8080/"
        },
        "outputId": "aaac2653-0b18-43b2-a3e8-955b24ee9971"
      },
      "source": [
        "predictions.show()"
      ],
      "execution_count": null,
      "outputs": [
        {
          "output_type": "stream",
          "text": [
            "+------+-------+------+----------+\n",
            "|userId|movieId|rating|Prediction|\n",
            "+------+-------+------+----------+\n",
            "|    91|    471|   1.0| 2.5418828|\n",
            "|   409|    471|   3.0| 3.5666108|\n",
            "|   218|    471|   4.0|  3.139399|\n",
            "|   387|    471|   3.0|  3.042109|\n",
            "|   217|    471|   2.0|  2.754712|\n",
            "|   520|    471|   5.0| 3.9758658|\n",
            "|   312|    471|   4.0| 3.8095398|\n",
            "|   608|    471|   1.5| 2.4980073|\n",
            "|   599|   1088|   2.5| 2.4698544|\n",
            "|   177|   1088|   3.5| 3.3751724|\n",
            "|   132|   1088|   4.0|  2.847704|\n",
            "|   387|   1088|   1.5| 2.3881683|\n",
            "|   381|   1088|   3.5| 3.6309452|\n",
            "|   307|   1088|   3.0| 2.3773305|\n",
            "|    51|   1088|   4.0| 3.5448327|\n",
            "|   525|   1088|   4.5|  3.256174|\n",
            "|   385|   1238|   3.0|  3.264252|\n",
            "|   587|   1238|   4.0| 3.1346846|\n",
            "|   216|   1238|   5.0| 3.4526994|\n",
            "|   156|   1238|   4.0| 3.8308578|\n",
            "+------+-------+------+----------+\n",
            "only showing top 20 rows\n",
            "\n"
          ],
          "name": "stdout"
        }
      ]
    },
    {
      "cell_type": "markdown",
      "metadata": {
        "application/vnd.databricks.v1+cell": {
          "title": "",
          "showTitle": false,
          "inputWidgets": {},
          "nuid": "b81f5c05-6034-4709-a2a3-4c04359f0bdf"
        },
        "id": "uxmPDoh7QaXu"
      },
      "source": [
        "### Model apply and see the performance"
      ]
    },
    {
      "cell_type": "code",
      "metadata": {
        "application/vnd.databricks.v1+cell": {
          "title": "",
          "showTitle": false,
          "inputWidgets": {},
          "nuid": "17ee8d22-e9d3-4df9-a4ac-6bf024cf2650"
        },
        "id": "1-LoAjpgQaXv",
        "colab": {
          "base_uri": "https://localhost:8080/"
        },
        "outputId": "3c6a4649-da22-489c-bd43-5046a836fe40"
      },
      "source": [
        "alldata=best_model.transform(movie_ratings)\n",
        "rmse = evaluator.evaluate(alldata)\n",
        "print (\"RMSE = \"+str(rmse))"
      ],
      "execution_count": null,
      "outputs": [
        {
          "output_type": "stream",
          "text": [
            "RMSE = 0.6936810208034438\n"
          ],
          "name": "stdout"
        }
      ]
    },
    {
      "cell_type": "code",
      "metadata": {
        "application/vnd.databricks.v1+cell": {
          "title": "",
          "showTitle": false,
          "inputWidgets": {},
          "nuid": "8bc372ad-5dd7-4eb3-9f56-10dabb7fb219"
        },
        "id": "GsZcYuf3QaXy"
      },
      "source": [
        "alldata.registerTempTable(\"alldata\")"
      ],
      "execution_count": null,
      "outputs": []
    },
    {
      "cell_type": "code",
      "metadata": {
        "application/vnd.databricks.v1+cell": {
          "title": "",
          "showTitle": false,
          "inputWidgets": {},
          "nuid": "c579f7ba-64c8-44b2-aae2-52246f826132"
        },
        "id": "YPLcy_EmQaX2",
        "colab": {
          "base_uri": "https://localhost:8080/"
        },
        "outputId": "e5b940f5-b119-4f4e-f90a-f8f9f681b8b9"
      },
      "source": [
        "result = spark.sql(\"select * from alldata\")\n",
        "result.show()"
      ],
      "execution_count": null,
      "outputs": [
        {
          "output_type": "stream",
          "text": [
            "+------+-------+------+----------+\n",
            "|userId|movieId|rating|Prediction|\n",
            "+------+-------+------+----------+\n",
            "|   191|    148|   5.0|  4.936762|\n",
            "|   133|    471|   4.0| 3.2076418|\n",
            "|   597|    471|   2.0| 3.6909595|\n",
            "|   385|    471|   4.0| 3.3912919|\n",
            "|   436|    471|   3.0|  3.546002|\n",
            "|   602|    471|   4.0|  3.164786|\n",
            "|    91|    471|   1.0| 2.5418828|\n",
            "|   409|    471|   3.0| 3.5666108|\n",
            "|   372|    471|   3.0| 3.1000493|\n",
            "|   599|    471|   2.5| 2.8947043|\n",
            "|   603|    471|   4.0|  3.817274|\n",
            "|   182|    471|   4.5|  3.962853|\n",
            "|   218|    471|   4.0|  3.139399|\n",
            "|   474|    471|   3.0| 3.8796182|\n",
            "|   500|    471|   1.0| 2.4193392|\n",
            "|    57|    471|   3.0| 3.7525496|\n",
            "|   462|    471|   2.5| 2.8512473|\n",
            "|   387|    471|   3.0|  3.042109|\n",
            "|   610|    471|   4.0| 3.4810367|\n",
            "|   217|    471|   2.0|  2.754712|\n",
            "+------+-------+------+----------+\n",
            "only showing top 20 rows\n",
            "\n"
          ],
          "name": "stdout"
        }
      ]
    },
    {
      "cell_type": "code",
      "metadata": {
        "application/vnd.databricks.v1+cell": {
          "title": "",
          "showTitle": false,
          "inputWidgets": {},
          "nuid": "ec8e9798-4f7f-44f5-bbda-b07c70f465ac"
        },
        "id": "Q71YkIRoQaX5",
        "colab": {
          "base_uri": "https://localhost:8080/"
        },
        "outputId": "7678608e-46b5-4abd-b5a5-714b17cb32d0"
      },
      "source": [
        "result = spark.sql(\"select * from movies join alldata on movies.movieId=alldata.movieId\")\n",
        "result.show()"
      ],
      "execution_count": null,
      "outputs": [
        {
          "output_type": "stream",
          "text": [
            "+-------+--------------------+------+------+-------+------+----------+\n",
            "|movieId|               title|genres|userId|movieId|rating|Prediction|\n",
            "+-------+--------------------+------+------+-------+------+----------+\n",
            "|    148|Awfully Big Adven...| Drama|   191|    148|   5.0|  4.936762|\n",
            "|    471|Hudsucker Proxy, ...|Comedy|   133|    471|   4.0| 3.2076418|\n",
            "|    471|Hudsucker Proxy, ...|Comedy|   597|    471|   2.0| 3.6909595|\n",
            "|    471|Hudsucker Proxy, ...|Comedy|   385|    471|   4.0| 3.3912919|\n",
            "|    471|Hudsucker Proxy, ...|Comedy|   436|    471|   3.0|  3.546002|\n",
            "|    471|Hudsucker Proxy, ...|Comedy|   602|    471|   4.0|  3.164786|\n",
            "|    471|Hudsucker Proxy, ...|Comedy|    91|    471|   1.0| 2.5418828|\n",
            "|    471|Hudsucker Proxy, ...|Comedy|   409|    471|   3.0| 3.5666108|\n",
            "|    471|Hudsucker Proxy, ...|Comedy|   372|    471|   3.0| 3.1000493|\n",
            "|    471|Hudsucker Proxy, ...|Comedy|   599|    471|   2.5| 2.8947043|\n",
            "|    471|Hudsucker Proxy, ...|Comedy|   603|    471|   4.0|  3.817274|\n",
            "|    471|Hudsucker Proxy, ...|Comedy|   182|    471|   4.5|  3.962853|\n",
            "|    471|Hudsucker Proxy, ...|Comedy|   218|    471|   4.0|  3.139399|\n",
            "|    471|Hudsucker Proxy, ...|Comedy|   474|    471|   3.0| 3.8796182|\n",
            "|    471|Hudsucker Proxy, ...|Comedy|   500|    471|   1.0| 2.4193392|\n",
            "|    471|Hudsucker Proxy, ...|Comedy|    57|    471|   3.0| 3.7525496|\n",
            "|    471|Hudsucker Proxy, ...|Comedy|   462|    471|   2.5| 2.8512473|\n",
            "|    471|Hudsucker Proxy, ...|Comedy|   387|    471|   3.0|  3.042109|\n",
            "|    471|Hudsucker Proxy, ...|Comedy|   610|    471|   4.0| 3.4810367|\n",
            "|    471|Hudsucker Proxy, ...|Comedy|   217|    471|   2.0|  2.754712|\n",
            "+-------+--------------------+------+------+-------+------+----------+\n",
            "only showing top 20 rows\n",
            "\n"
          ],
          "name": "stdout"
        }
      ]
    },
    {
      "cell_type": "code",
      "metadata": {
        "id": "8LrzaWDDn41k"
      },
      "source": [
        "best_model.save(\"/content/model\")"
      ],
      "execution_count": null,
      "outputs": []
    },
    {
      "cell_type": "markdown",
      "metadata": {
        "application/vnd.databricks.v1+cell": {
          "title": "",
          "showTitle": false,
          "inputWidgets": {},
          "nuid": "463ed6ee-ce80-4a06-86f3-d44d734b771d"
        },
        "id": "LdrPaV9_QaX_"
      },
      "source": [
        "## Recommend moive to users with id: 575, 232. \n",
        "you can choose some users to recommend the moives"
      ]
    },
    {
      "cell_type": "code",
      "metadata": {
        "id": "Q_XAdUvScMom"
      },
      "source": [
        "from pyspark.sql.types import *\n",
        "def get_recommendation(id_type=\"userId\",id =None, numItems = 5):\n",
        "  \"\"\"\n",
        "  id_type: type of id to input:  userId, movieId\n",
        "  id: movie/ user id to query, either string or integer type\n",
        "  numItems: number of Items to recommend in each query\n",
        "  \"\"\"\n",
        "  if id_type ==\"userId\" :\n",
        "    # User-Id based \n",
        "    recommendation = best_model.recommendForAllUsers(numItems)\n",
        "    recommended_movies_df = recommendation.where(col(\"userId\")==int(id)).toPandas()\n",
        "  elif id_type ==\"movieId\" :\n",
        "    # Movie-Id based\n",
        "    recommendation = best_model.recommendForAllItems(numItems)\n",
        "    recommended_movies_df = recommendation.where(col(\"movieId\")==int(id)).toPandas()  \n",
        "  else:\n",
        "    print(\"id_type should be either 'userId' or 'movieId'\")\n",
        "    print(\"id should integer\")\n",
        "    return None\n",
        "\n",
        "  #make sure there are movies recommended\n",
        "  if len(recommended_movies_df) >0:\n",
        "    movie_recommended = recommended_movies_df.iloc[0].loc[\"recommendations\"]\n",
        "    \n",
        "    schema = StructType([\n",
        "          StructField('movieId', IntegerType(), False),\n",
        "          StructField('Prediction', FloatType(), False)\n",
        "      ])\n",
        "    movies = spark.createDataFrame(movie_recommended,schema)\n",
        "    print(\"Movies recommended to User:%d\"%int(id))\n",
        "    movies = movies.join(movies_df,'movieId','left').toPandas()\n",
        "  else:\n",
        "    print(\"No movies for \"+id_type+ \": %d\"%int(id))\n",
        "    movies = None\n",
        "  return movies\n",
        "\n",
        "\n"
      ],
      "execution_count": null,
      "outputs": []
    },
    {
      "cell_type": "code",
      "metadata": {
        "id": "YzMd-UajueHL",
        "colab": {
          "base_uri": "https://localhost:8080/",
          "height": 213
        },
        "outputId": "cb7fa439-2ae9-4a90-f0d7-ecf037ec8f31"
      },
      "source": [
        "#Query User Id: 575\n",
        "get_recommendation(id_type=\"userId\", id =575)"
      ],
      "execution_count": null,
      "outputs": [
        {
          "output_type": "stream",
          "text": [
            "Movies recommended to User:575\n"
          ],
          "name": "stdout"
        },
        {
          "output_type": "execute_result",
          "data": {
            "text/html": [
              "<div>\n",
              "<style scoped>\n",
              "    .dataframe tbody tr th:only-of-type {\n",
              "        vertical-align: middle;\n",
              "    }\n",
              "\n",
              "    .dataframe tbody tr th {\n",
              "        vertical-align: top;\n",
              "    }\n",
              "\n",
              "    .dataframe thead th {\n",
              "        text-align: right;\n",
              "    }\n",
              "</style>\n",
              "<table border=\"1\" class=\"dataframe\">\n",
              "  <thead>\n",
              "    <tr style=\"text-align: right;\">\n",
              "      <th></th>\n",
              "      <th>movieId</th>\n",
              "      <th>Prediction</th>\n",
              "      <th>title</th>\n",
              "      <th>genres</th>\n",
              "    </tr>\n",
              "  </thead>\n",
              "  <tbody>\n",
              "    <tr>\n",
              "      <th>0</th>\n",
              "      <td>68945</td>\n",
              "      <td>5.431108</td>\n",
              "      <td>Neon Genesis Evangelion: Death &amp; Rebirth (Shin...</td>\n",
              "      <td>Action|Animation|Mystery|Sci-Fi</td>\n",
              "    </tr>\n",
              "    <tr>\n",
              "      <th>1</th>\n",
              "      <td>3379</td>\n",
              "      <td>5.431108</td>\n",
              "      <td>On the Beach (1959)</td>\n",
              "      <td>Drama</td>\n",
              "    </tr>\n",
              "    <tr>\n",
              "      <th>2</th>\n",
              "      <td>8477</td>\n",
              "      <td>5.417279</td>\n",
              "      <td>Jetée, La (1962)</td>\n",
              "      <td>Romance|Sci-Fi</td>\n",
              "    </tr>\n",
              "    <tr>\n",
              "      <th>3</th>\n",
              "      <td>4256</td>\n",
              "      <td>5.294410</td>\n",
              "      <td>Center of the World, The (2001)</td>\n",
              "      <td>Drama</td>\n",
              "    </tr>\n",
              "    <tr>\n",
              "      <th>4</th>\n",
              "      <td>33649</td>\n",
              "      <td>5.286087</td>\n",
              "      <td>Saving Face (2004)</td>\n",
              "      <td>Comedy|Drama|Romance</td>\n",
              "    </tr>\n",
              "  </tbody>\n",
              "</table>\n",
              "</div>"
            ],
            "text/plain": [
              "   movieId  ...                           genres\n",
              "0    68945  ...  Action|Animation|Mystery|Sci-Fi\n",
              "1     3379  ...                            Drama\n",
              "2     8477  ...                   Romance|Sci-Fi\n",
              "3     4256  ...                            Drama\n",
              "4    33649  ...             Comedy|Drama|Romance\n",
              "\n",
              "[5 rows x 4 columns]"
            ]
          },
          "metadata": {
            "tags": []
          },
          "execution_count": 51
        }
      ]
    },
    {
      "cell_type": "code",
      "metadata": {
        "id": "4YcmEwseKvbl",
        "colab": {
          "base_uri": "https://localhost:8080/",
          "height": 213
        },
        "outputId": "2a0603c5-a66a-4426-a7b9-f76c26d3e58b"
      },
      "source": [
        "#Query User Id: 232\n",
        "get_recommendation(id_type=\"userId\", id =232)"
      ],
      "execution_count": null,
      "outputs": [
        {
          "output_type": "stream",
          "text": [
            "Movies recommended to User:232\n"
          ],
          "name": "stdout"
        },
        {
          "output_type": "execute_result",
          "data": {
            "text/html": [
              "<div>\n",
              "<style scoped>\n",
              "    .dataframe tbody tr th:only-of-type {\n",
              "        vertical-align: middle;\n",
              "    }\n",
              "\n",
              "    .dataframe tbody tr th {\n",
              "        vertical-align: top;\n",
              "    }\n",
              "\n",
              "    .dataframe thead th {\n",
              "        text-align: right;\n",
              "    }\n",
              "</style>\n",
              "<table border=\"1\" class=\"dataframe\">\n",
              "  <thead>\n",
              "    <tr style=\"text-align: right;\">\n",
              "      <th></th>\n",
              "      <th>movieId</th>\n",
              "      <th>Prediction</th>\n",
              "      <th>title</th>\n",
              "      <th>genres</th>\n",
              "    </tr>\n",
              "  </thead>\n",
              "  <tbody>\n",
              "    <tr>\n",
              "      <th>0</th>\n",
              "      <td>68945</td>\n",
              "      <td>4.871829</td>\n",
              "      <td>Neon Genesis Evangelion: Death &amp; Rebirth (Shin...</td>\n",
              "      <td>Action|Animation|Mystery|Sci-Fi</td>\n",
              "    </tr>\n",
              "    <tr>\n",
              "      <th>1</th>\n",
              "      <td>3379</td>\n",
              "      <td>4.871829</td>\n",
              "      <td>On the Beach (1959)</td>\n",
              "      <td>Drama</td>\n",
              "    </tr>\n",
              "    <tr>\n",
              "      <th>2</th>\n",
              "      <td>33649</td>\n",
              "      <td>4.734941</td>\n",
              "      <td>Saving Face (2004)</td>\n",
              "      <td>Comedy|Drama|Romance</td>\n",
              "    </tr>\n",
              "    <tr>\n",
              "      <th>3</th>\n",
              "      <td>117531</td>\n",
              "      <td>4.689919</td>\n",
              "      <td>Watermark (2014)</td>\n",
              "      <td>Documentary</td>\n",
              "    </tr>\n",
              "    <tr>\n",
              "      <th>4</th>\n",
              "      <td>84273</td>\n",
              "      <td>4.689919</td>\n",
              "      <td>Zeitgeist: Moving Forward (2011)</td>\n",
              "      <td>Documentary</td>\n",
              "    </tr>\n",
              "  </tbody>\n",
              "</table>\n",
              "</div>"
            ],
            "text/plain": [
              "   movieId  ...                           genres\n",
              "0    68945  ...  Action|Animation|Mystery|Sci-Fi\n",
              "1     3379  ...                            Drama\n",
              "2    33649  ...             Comedy|Drama|Romance\n",
              "3   117531  ...                      Documentary\n",
              "4    84273  ...                      Documentary\n",
              "\n",
              "[5 rows x 4 columns]"
            ]
          },
          "metadata": {
            "tags": []
          },
          "execution_count": 52
        }
      ]
    },
    {
      "cell_type": "markdown",
      "metadata": {
        "id": "X6986GThXXtJ"
      },
      "source": [
        "## Using interact widget to query recommendations\n",
        "You can type the movie Id , or userId you want to query into the \"id\" box and search recommended movies"
      ]
    },
    {
      "cell_type": "code",
      "metadata": {
        "id": "zGAygdeaM2ap",
        "colab": {
          "base_uri": "https://localhost:8080/",
          "height": 326,
          "referenced_widgets": [
            "1ac95eb48cd546898a6ee045ce949620",
            "1f4cb2d7eca14d4a8b436d7edf4afc02",
            "f2dd80b308f44cb3b6badb2a1b66a178",
            "0c325c8976d54f8eafe696af286130c9",
            "eec6aff2cbea4ca7b7da64641e63f8c8",
            "3d32ff96fdd84c98aad261bfd8ab8a3f",
            "ea6eb6117e27419aa07ed9567843000f",
            "0f3e52993f1e4a17b170f7ceb571ae4f",
            "8426f0590cdd41baa9fddba92060ffe9",
            "519760551ca946f895cd279c31651739",
            "2bf59608de82476ab3d8dd17f4106865",
            "cd2e458ec7844fec93e024c52ad51ea1",
            "a59b89fa8de44092a593d26a5e2f13df"
          ]
        },
        "outputId": "c1600106-98f3-44d0-8c0a-2dbdf4ea0279"
      },
      "source": [
        "from ipywidgets import interact\n",
        "interact(get_recommendation,id_type= [\"userId\",\"movieId\"], id= '575',numItems= [1,5,10,15])"
      ],
      "execution_count": null,
      "outputs": [
        {
          "output_type": "display_data",
          "data": {
            "application/vnd.jupyter.widget-view+json": {
              "model_id": "1ac95eb48cd546898a6ee045ce949620",
              "version_minor": 0,
              "version_major": 2
            },
            "text/plain": [
              "interactive(children=(Dropdown(description='id_type', options=('userId', 'movieId'), value='userId'), Text(val…"
            ]
          },
          "metadata": {
            "tags": []
          }
        },
        {
          "output_type": "execute_result",
          "data": {
            "text/plain": [
              "<function __main__.get_recommendation>"
            ]
          },
          "metadata": {
            "tags": []
          },
          "execution_count": 53
        }
      ]
    },
    {
      "cell_type": "markdown",
      "metadata": {
        "application/vnd.databricks.v1+cell": {
          "title": "",
          "showTitle": false,
          "inputWidgets": {},
          "nuid": "f010be4b-7abc-41cf-9173-6a44f0039d9b"
        },
        "id": "py5GKSmMQaYA"
      },
      "source": [
        "## Find the similar moives for moive with id: 463, 471\n",
        "You can find the similar moives based on the ALS results"
      ]
    },
    {
      "cell_type": "code",
      "metadata": {
        "id": "iizkYhNrSng-",
        "colab": {
          "base_uri": "https://localhost:8080/"
        },
        "outputId": "529770f7-287b-4ff3-ae4a-cd1bddfd2bf5"
      },
      "source": [
        "get_recommendation(id_type=\"movieId\", id =463)"
      ],
      "execution_count": null,
      "outputs": [
        {
          "output_type": "stream",
          "text": [
            "No movies for movieId: 463\n"
          ],
          "name": "stdout"
        }
      ]
    },
    {
      "cell_type": "code",
      "metadata": {
        "id": "dNTRoYR6SnLc",
        "colab": {
          "base_uri": "https://localhost:8080/",
          "height": 213
        },
        "outputId": "3b57a397-1eae-40ea-e584-ec3082ed5a5d"
      },
      "source": [
        "get_recommendation(id_type=\"movieId\", id =471)"
      ],
      "execution_count": null,
      "outputs": [
        {
          "output_type": "stream",
          "text": [
            "Movies recommended to User:471\n"
          ],
          "name": "stdout"
        },
        {
          "output_type": "execute_result",
          "data": {
            "text/html": [
              "<div>\n",
              "<style scoped>\n",
              "    .dataframe tbody tr th:only-of-type {\n",
              "        vertical-align: middle;\n",
              "    }\n",
              "\n",
              "    .dataframe tbody tr th {\n",
              "        vertical-align: top;\n",
              "    }\n",
              "\n",
              "    .dataframe thead th {\n",
              "        text-align: right;\n",
              "    }\n",
              "</style>\n",
              "<table border=\"1\" class=\"dataframe\">\n",
              "  <thead>\n",
              "    <tr style=\"text-align: right;\">\n",
              "      <th></th>\n",
              "      <th>movieId</th>\n",
              "      <th>Prediction</th>\n",
              "      <th>title</th>\n",
              "      <th>genres</th>\n",
              "    </tr>\n",
              "  </thead>\n",
              "  <tbody>\n",
              "    <tr>\n",
              "      <th>0</th>\n",
              "      <td>461</td>\n",
              "      <td>5.806471</td>\n",
              "      <td>Go Fish (1994)</td>\n",
              "      <td>Drama|Romance</td>\n",
              "    </tr>\n",
              "    <tr>\n",
              "      <th>1</th>\n",
              "      <td>99</td>\n",
              "      <td>5.278326</td>\n",
              "      <td>Heidi Fleiss: Hollywood Madam (1995)</td>\n",
              "      <td>Documentary</td>\n",
              "    </tr>\n",
              "    <tr>\n",
              "      <th>2</th>\n",
              "      <td>258</td>\n",
              "      <td>5.172138</td>\n",
              "      <td>Kid in King Arthur's Court, A (1995)</td>\n",
              "      <td>Adventure|Children|Comedy|Fantasy|Romance</td>\n",
              "    </tr>\n",
              "    <tr>\n",
              "      <th>3</th>\n",
              "      <td>224</td>\n",
              "      <td>5.091140</td>\n",
              "      <td>Don Juan DeMarco (1995)</td>\n",
              "      <td>Comedy|Drama|Romance</td>\n",
              "    </tr>\n",
              "    <tr>\n",
              "      <th>4</th>\n",
              "      <td>108</td>\n",
              "      <td>4.804200</td>\n",
              "      <td>Catwalk (1996)</td>\n",
              "      <td>Documentary</td>\n",
              "    </tr>\n",
              "  </tbody>\n",
              "</table>\n",
              "</div>"
            ],
            "text/plain": [
              "   movieId  ...                                     genres\n",
              "0      461  ...                              Drama|Romance\n",
              "1       99  ...                                Documentary\n",
              "2      258  ...  Adventure|Children|Comedy|Fantasy|Romance\n",
              "3      224  ...                       Comedy|Drama|Romance\n",
              "4      108  ...                                Documentary\n",
              "\n",
              "[5 rows x 4 columns]"
            ]
          },
          "metadata": {
            "tags": []
          },
          "execution_count": 55
        }
      ]
    },
    {
      "cell_type": "markdown",
      "metadata": {
        "id": "Iz5OA__NGcsq"
      },
      "source": [
        "### We can see that there is a movie with title and genres equal to \"None\". The reason is that this movie id from rating dataframe doesn't exist in movie dataframe from movie.csv."
      ]
    },
    {
      "cell_type": "markdown",
      "metadata": {
        "id": "-GCiTwWPWmui"
      },
      "source": [
        "## Using interact widget to load recommendations"
      ]
    },
    {
      "cell_type": "code",
      "metadata": {
        "id": "pfenhReOWRwx",
        "colab": {
          "base_uri": "https://localhost:8080/",
          "height": 326,
          "referenced_widgets": [
            "db812c58d08b412bba426884e20a5518",
            "d6b339c01b344b829144067318179ad9",
            "fa0e2928a58a458ebda669b012cecf6d",
            "1f2514c922f54f63badb600a3bd7e5db",
            "60af85be4a874e7a9a413358d9a06abb",
            "75bbf920e8f445e19ea58a4519ec3302",
            "45e8fb5b3ae041759901954bd34f1fb1",
            "b6ccdd4178c44a799ae41b3d54d7be63",
            "b20de326a91247028adf5ac2f6eb14f4",
            "54132c48f7f745829c7f87f3c703279d",
            "028647dd2d8c4887b3e9b5d337de5836",
            "b102ecc493ac4275bcdb76b6181d6709",
            "c2176318fbfb4d1fb4cf704d72ddb1a3"
          ]
        },
        "outputId": "7ed18d0a-a4a9-4196-fb8f-5139f52faee3"
      },
      "source": [
        "interact(get_recommendation,id_type= [\"userId\",\"movieId\"], id= '471',numItems= [1,5,10,15])"
      ],
      "execution_count": null,
      "outputs": [
        {
          "output_type": "display_data",
          "data": {
            "application/vnd.jupyter.widget-view+json": {
              "model_id": "db812c58d08b412bba426884e20a5518",
              "version_minor": 0,
              "version_major": 2
            },
            "text/plain": [
              "interactive(children=(Dropdown(description='id_type', options=('userId', 'movieId'), value='userId'), Text(val…"
            ]
          },
          "metadata": {
            "tags": []
          }
        },
        {
          "output_type": "execute_result",
          "data": {
            "text/plain": [
              "<function __main__.get_recommendation>"
            ]
          },
          "metadata": {
            "tags": []
          },
          "execution_count": 56
        }
      ]
    },
    {
      "cell_type": "code",
      "metadata": {
        "id": "8tmYRwGaPKJV",
        "colab": {
          "base_uri": "https://localhost:8080/"
        },
        "outputId": "fd62ea16-2588-4dde-def3-d641af459fe0"
      },
      "source": [
        "from pyspark.sql.functions import *\n",
        "\n",
        "def cos_similarity(id1,id2,type=\"userId\"):\n",
        "  \"\"\"Implementation of cosine similarity\n",
        "  \"\"\"\n",
        "  similarity = 0.0\n",
        "  if type ==\"userId\":\n",
        "    # If input ids are user Id, Compute similarity between users\n",
        "    user1 = movie_ratings.where((col('userId')==id1)).select([\"movieId\"]).distinct()\n",
        "    user2 = movie_ratings.where((col('userId')==id2)).select([\"movieId\"]).distinct()\n",
        "    N1 = user1.count()\n",
        "    N2 = user2.count()\n",
        "    \n",
        "    \n",
        "    intersection = user1.intersect(user2).count()\n",
        "    if N1!=0 and N2!= 0:\n",
        "      similarity = intersection/np.sqrt(N1*N2)\n",
        "    pass\n",
        "  elif type == \"movieId\":\n",
        "    # If input ids are movies Id, Compute similarity between movies\n",
        "    movie1 = movie_ratings.where((col('movieId')==id1)).select([\"userId\"]).distinct()\n",
        "    movie2 = movie_ratings.where((col('movieId')==id2)).select([\"userId\"]).distinct()\n",
        "    N1 = movie1.count()\n",
        "    N2 = movie2.count()\n",
        "    \n",
        "    \n",
        "    intersection = movie1.intersect(movie2).count()\n",
        "    # print(N1,N2, intersection)\n",
        "    if N1!=0 and N2!= 0:\n",
        "      similarity = intersection/np.sqrt(N1*N2)\n",
        "      \n",
        "    pass\n",
        "  else:\n",
        "\n",
        "    pass\n",
        "  return similarity\n",
        "cos_similarity(471, 464, type=\"movieId\"), cos_similarity(575, 232, type=\"userId\")\n",
        "# movie_ratings.where((col('movieId')==464)).select([\"userId\"]).distinct().count()"
      ],
      "execution_count": null,
      "outputs": [
        {
          "output_type": "execute_result",
          "data": {
            "text/plain": [
              "(0.35, 0.028383445970423818)"
            ]
          },
          "metadata": {
            "tags": []
          },
          "execution_count": 117
        }
      ]
    },
    {
      "cell_type": "markdown",
      "metadata": {
        "id": "zKn0oWHaqbnW"
      },
      "source": [
        "#### An Updated version of recommendation, which can compute the cosine similarity between two movies"
      ]
    },
    {
      "cell_type": "code",
      "metadata": {
        "id": "vFR1pZjGhA42",
        "colab": {
          "base_uri": "https://localhost:8080/",
          "height": 326,
          "referenced_widgets": [
            "de7d2b2cd69e4809a83d05a9fce3f8ce",
            "4dc37848b678483ebe13add03e950ce9",
            "4a8d4e765e9f4674935a184d83bb1ff8",
            "33f4dfe9c19348a79b73a86ca40e5ca1",
            "465b710d861a4399a9778650b9963b45",
            "3ceb2f5d5470466792a84467a58d6f06",
            "1214e6b07dff4418860625622d66560a",
            "0cb349271b1b4266820bb67ecda5560c",
            "ceef0071a34242adb0a25d3f92e3a4ee",
            "b72e710db8f74eaa877ebc00a64356c3",
            "33e8eb271d4348bdb9ac041f6a3c7d07",
            "56f74937b6cd4af5a1b29c236f835f1b",
            "278bbdc4dd434ec5beae4764f0d54daf"
          ]
        },
        "outputId": "730c041b-da00-432f-cbc4-07ce7c6d6df1"
      },
      "source": [
        "def get_recommendation(id_type=\"userId\",id =None, numItems = 5):\n",
        "  \"\"\"\n",
        "  id_type: type of id to input:  userId, movieId\n",
        "  id: movie/ user id to query, either string or integer type\n",
        "  numItems: number of Items to recommend in each query\n",
        "  \"\"\"\n",
        "  if id_type ==\"userId\" :\n",
        "    # User-Id based \n",
        "    recommendation = best_model.recommendForAllUsers(numItems)\n",
        "    recommended_movies_df = recommendation.where(col(\"userId\")==int(id)).toPandas()\n",
        "    \n",
        "  elif id_type ==\"movieId\" :\n",
        "    # Movie-Id based\n",
        "    recommendation = best_model.recommendForAllItems(numItems)\n",
        "    recommended_movies_df = recommendation.where(col(\"movieId\")==int(id)).toPandas()  \n",
        "  else:\n",
        "    print(\"id_type should be either 'userId' or 'movieId'\")\n",
        "    print(\"id should integer\")\n",
        "    return None\n",
        "\n",
        "  #make sure there are movies recommended\n",
        "  if len(recommended_movies_df) >0:\n",
        "    movie_recommended = recommended_movies_df.iloc[0].loc[\"recommendations\"]\n",
        "    \n",
        "    schema = StructType([\n",
        "          StructField('movieId', IntegerType(), False),\n",
        "          StructField('Prediction', FloatType(), False)\n",
        "      ])\n",
        "    movies = spark.createDataFrame(movie_recommended,schema)\n",
        "    print(\"Movies recommended to User:%d\"%int(id))\n",
        "    movies = movies.join(movies_df,'movieId','left').toPandas()\n",
        "\n",
        "    if id_type ==\"movieId\":\n",
        "      id_list = movies[\"movieId\"].tolist()\n",
        "      cos_similarity_ls = []\n",
        "      for movieId in id_list:\n",
        "        cos_similarity_ls.append(cos_similarity(movieId, id, type=\"movieId\"))\n",
        "      movies[\"cos_similarity\"]= cos_similarity_ls\n",
        "\n",
        "  else:\n",
        "    print(\"No movies for \"+id_type+ \": %d\"%int(id))\n",
        "    movies = None\n",
        "  return movies\n",
        "interact(get_recommendation,id_type= [\"userId\",\"movieId\"], id= '471',numItems= [1,5,10,15])"
      ],
      "execution_count": null,
      "outputs": [
        {
          "output_type": "display_data",
          "data": {
            "application/vnd.jupyter.widget-view+json": {
              "model_id": "de7d2b2cd69e4809a83d05a9fce3f8ce",
              "version_minor": 0,
              "version_major": 2
            },
            "text/plain": [
              "interactive(children=(Dropdown(description='id_type', options=('userId', 'movieId'), value='userId'), Text(val…"
            ]
          },
          "metadata": {
            "tags": []
          }
        },
        {
          "output_type": "execute_result",
          "data": {
            "text/plain": [
              "<function __main__.get_recommendation>"
            ]
          },
          "metadata": {
            "tags": []
          },
          "execution_count": 119
        }
      ]
    },
    {
      "cell_type": "markdown",
      "metadata": {
        "application/vnd.databricks.v1+cell": {
          "title": "",
          "showTitle": false,
          "inputWidgets": {},
          "nuid": "90b06a8e-410f-4148-ba9c-5d030cd5e703"
        },
        "id": "Vi61z8p8QaYC"
      },
      "source": [
        "## Write the report \n",
        "#### **motivation**\n",
        "\n",
        "Personally, watching movies and animes is one of my hobbies and I want to explore the potential movies that may attract me. For this purpose, movie recommendation system could be a wonderful tool to help me figure out intertesting movies and enjoy my life. \n",
        "\n",
        "For business insight, as the amount of movies,videos and the amount of movie platforms increase and there are diversity of tastes of users, it is difficult for users to explore the movies they prefer. A good movie recommendation system can help companies provide users with better movie watching experience and attract more users to their platform. Hence it is necessary to build a movie recommendation system.\n",
        "\n",
        "#### **step1: Data Collection, Extract and Data Analysis**\n",
        "The dataset is MovieLens small dataset in 2018. There are four csv files in the dataset, including movies.csv, ratings.csv, tags.csv, links.csv. In this project, I only use movies.csv and ratings.csv as they provides the information I need in constructing recommendation system, such as, movie id, user id, ratings, etc. Since all columns in datasets are in string data type, I need to convert some of them to numerical data type as we want in preprocessing step.\n",
        "In addition, I also find that the dataset is incomplete as 18 movies are not rated by users.\n",
        "\n",
        "#### **step2: Data Preprocessing**\n",
        "In data preprocessing step, I convert the movieId, userId, rating from string type to Integer type and float type so that I can use the numerical features to feed the machine learning model.\n",
        "During data analysis, I find that there are some genres and titles of movies are missing. However, since I only care the userId and movieId and rating score during recommendation, I choose to keep those movies missing genres and titles here.\n",
        "\n",
        "In addition, in order to train the model and test model, I split the whole dataset to 80% training data and 20% testing data randomly.\n",
        "\n",
        "#### **step3: Construct Movie Recommendation System**\n",
        "In this step, I use Alternative Least Square (ALS) method for non-negative matrix factorization to construct a movie recommendation system. In training step, the inputs to the model are userId, movieId and rating score and ALS model will decompose user-item-rating matrix into two non-negative matrices: user-potential topic dense matrix, potential topic-movie dense matrix. \n",
        "The ALS model outputs predictions of rating of given user-item pair.\n",
        "\n",
        "In order to find a better Model, I use grid search method and cross-validation method to tune the model parameters, such as rank of matrix, regularization rate, iteration number,etc.\n",
        "\n",
        "#### **step4: Model Evaluation**  \n",
        "In evaluation and testing step, I use  Root Mean Square Error (RMSE) to compute the error rate of ALS model,between rating scores and prediction score. Smaller RMSE is, better performance the system has.\n",
        "In this step, we can see that the RMSE score on test set is 0.868 and 0.69 on all data. It seems like the model is over-fitting to the training data.\n",
        "\n",
        "Moreover, Matrix factorization method for recommendation system works well on users, movie items that it knows only. For new items and users that have no rating, it is hard to learn to predict the ratings. This is one drawback in ALS method. Hence we can see that there is no movie recommended when we input movieId=463 into system.\n",
        "\n",
        "#### **step5: Deploy recommendation System**\n",
        "After I train and test the recommendation system, I use an ipywidget to simply deploy the model and allow user to change the userid and movieid to find recommended movies\n",
        "\n",
        "#### **Output and conclusion**\n",
        "In conclusion, I designed an movie recommendation system based on MovieLen small dataset using matrix factorization method and also tune the model using grid search, cross-validation method. After that, I used RMSE error to evaluate the model and found that ALS model is a little over-fitting and could have problem when I input users/movies that it has not seen before. Moreover, this method doesn't utilize the whole dataset efficiently as it uses userId, movieId, rating features only. Finally, I deploy the model using interact widget to let user use the system easily.\n"
      ]
    },
    {
      "cell_type": "code",
      "metadata": {
        "id": "QA50CpCnU4s7"
      },
      "source": [
        ""
      ],
      "execution_count": null,
      "outputs": []
    }
  ]
}